{
 "cells": [
  {
   "cell_type": "code",
   "execution_count": null,
   "metadata": {},
   "outputs": [],
   "source": [
    "import pymc3 as pm\n",
    "import pandas as pd\n",
    "import numpy as np\n",
    "import matplotlib.pyplot as plt\n",
    "%matplotlib inline"
   ]
  },
  {
   "cell_type": "code",
   "execution_count": null,
   "metadata": {},
   "outputs": [],
   "source": [
    "from lifetimes.datasets import load_dataset\n",
    "\n",
    "cdnow_transactions = load_dataset(\n",
    "    'CDNOW_sample.txt', \n",
    "    header=None, \n",
    "    delim_whitespace=True, \n",
    "    names=['customer_id', 'cust omer_index', 'date', 'quantity', 'amount'],\n",
    "    converters={'date': lambda x: pd.to_datetime(x, format=\"%Y%m%d\")}\n",
    ")\n",
    "\n",
    "cdnow_transactions.head()"
   ]
  },
  {
   "cell_type": "code",
   "execution_count": null,
   "metadata": {},
   "outputs": [],
   "source": [
    "# lifetimes provides a transaction log -> rfm util function\n",
    "import lifetimes\n",
    "rfm = lifetimes.utils.summary_data_from_transaction_data(\n",
    "    cdnow_transactions,\n",
    "    'customer_id',\n",
    "    'date',\n",
    "    observation_period_end=pd.to_datetime('1997-09-30'),\n",
    "    freq='W'\n",
    ")\n",
    "\n",
    "rfm.head()"
   ]
  },
  {
   "cell_type": "code",
   "execution_count": null,
   "metadata": {},
   "outputs": [],
   "source": []
  }
 ],
 "metadata": {
  "kernelspec": {
   "display_name": "Python 3",
   "language": "python",
   "name": "python3"
  },
  "language_info": {
   "codemirror_mode": {
    "name": "ipython",
    "version": 3
   },
   "file_extension": ".py",
   "mimetype": "text/x-python",
   "name": "python",
   "nbconvert_exporter": "python",
   "pygments_lexer": "ipython3",
   "version": "3.7.0"
  }
 },
 "nbformat": 4,
 "nbformat_minor": 2
}
