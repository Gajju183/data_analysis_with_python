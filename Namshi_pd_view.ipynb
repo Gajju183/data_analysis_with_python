{
 "cells": [
  {
   "cell_type": "code",
   "execution_count": 1,
   "metadata": {},
   "outputs": [],
   "source": [
    "import pandas as pd\n",
    "import json"
   ]
  },
  {
   "cell_type": "code",
   "execution_count": 20,
   "metadata": {},
   "outputs": [],
   "source": [
    "df = pd.read_csv('C:/Users/Gajraj Singh/Downloads/ounass.csv')"
   ]
  },
  {
   "cell_type": "code",
   "execution_count": 28,
   "metadata": {},
   "outputs": [
    {
     "data": {
      "text/plain": [
       "'{\"product_ids\":\"204747296_242\",\"environment\":\"production\",\"currency\":\"SAR\",\"cid\":\"D9205DBB-C362-4627-8917-923590131E47\",\"cost\":\"646.1000\",\"transaction_obj\":\"[{\\\\\"id\\\\\":\\\\\"204747296_242\\\\\",\\\\\"quantity\\\\\":1}]\",\"fb_content_type\":\"product\",\"transaction_id\":\"POS12221936\"}'"
      ]
     },
     "execution_count": 28,
     "metadata": {},
     "output_type": "execute_result"
    }
   ],
   "source": [
    "df.iloc[1]['eventitemjson']"
   ]
  },
  {
   "cell_type": "code",
   "execution_count": 29,
   "metadata": {},
   "outputs": [],
   "source": [
    "df['sku'] = df['eventitemjson'].apply(lambda x:json.loads(x).get('product_ids','NULL'))\n",
    "df['revenue'] = df['eventitemjson'].apply(lambda x:json.loads(x).get('cost','NULL'))\n",
    "df['currency'] = df['eventitemjson'].apply(lambda x:json.loads(x).get('currency','NULL'))"
   ]
  },
  {
   "cell_type": "code",
   "execution_count": 30,
   "metadata": {},
   "outputs": [
    {
     "data": {
      "text/html": [
       "<div>\n",
       "<style scoped>\n",
       "    .dataframe tbody tr th:only-of-type {\n",
       "        vertical-align: middle;\n",
       "    }\n",
       "\n",
       "    .dataframe tbody tr th {\n",
       "        vertical-align: top;\n",
       "    }\n",
       "\n",
       "    .dataframe thead th {\n",
       "        text-align: right;\n",
       "    }\n",
       "</style>\n",
       "<table border=\"1\" class=\"dataframe\">\n",
       "  <thead>\n",
       "    <tr style=\"text-align: right;\">\n",
       "      <th></th>\n",
       "      <th>eventitemjson</th>\n",
       "      <th>sku</th>\n",
       "      <th>revenue</th>\n",
       "      <th>currency</th>\n",
       "    </tr>\n",
       "  </thead>\n",
       "  <tbody>\n",
       "    <tr>\n",
       "      <th>0</th>\n",
       "      <td>{\"transaction_id\":\"POS12671978\",\"product_ids\":...</td>\n",
       "      <td>213322819_26,202320282_247</td>\n",
       "      <td>1500.0000</td>\n",
       "      <td>SAR</td>\n",
       "    </tr>\n",
       "    <tr>\n",
       "      <th>1</th>\n",
       "      <td>{\"product_ids\":\"204747296_242\",\"environment\":\"...</td>\n",
       "      <td>204747296_242</td>\n",
       "      <td>646.1000</td>\n",
       "      <td>SAR</td>\n",
       "    </tr>\n",
       "    <tr>\n",
       "      <th>2</th>\n",
       "      <td>{\"transaction_obj\":\"[{\\\"id\\\":\\\"204748268_242\\\"...</td>\n",
       "      <td>204748268_242,205138509_242</td>\n",
       "      <td>367.0000</td>\n",
       "      <td>AED</td>\n",
       "    </tr>\n",
       "    <tr>\n",
       "      <th>3</th>\n",
       "      <td>{\"transaction_obj\":\"[{\\\"id\\\":\\\"212282750_242\\\"...</td>\n",
       "      <td>212282750_242,204748268_242</td>\n",
       "      <td>320.0000</td>\n",
       "      <td>SAR</td>\n",
       "    </tr>\n",
       "    <tr>\n",
       "      <th>4</th>\n",
       "      <td>{\"environment\":\"production\",\"currency\":\"AED\",\"...</td>\n",
       "      <td>213333472_242,204752132_242</td>\n",
       "      <td>10.9000</td>\n",
       "      <td>AED</td>\n",
       "    </tr>\n",
       "  </tbody>\n",
       "</table>\n",
       "</div>"
      ],
      "text/plain": [
       "                                       eventitemjson  \\\n",
       "0  {\"transaction_id\":\"POS12671978\",\"product_ids\":...   \n",
       "1  {\"product_ids\":\"204747296_242\",\"environment\":\"...   \n",
       "2  {\"transaction_obj\":\"[{\\\"id\\\":\\\"204748268_242\\\"...   \n",
       "3  {\"transaction_obj\":\"[{\\\"id\\\":\\\"212282750_242\\\"...   \n",
       "4  {\"environment\":\"production\",\"currency\":\"AED\",\"...   \n",
       "\n",
       "                           sku    revenue currency  \n",
       "0   213322819_26,202320282_247  1500.0000      SAR  \n",
       "1                204747296_242   646.1000      SAR  \n",
       "2  204748268_242,205138509_242   367.0000      AED  \n",
       "3  212282750_242,204748268_242   320.0000      SAR  \n",
       "4  213333472_242,204752132_242    10.9000      AED  "
      ]
     },
     "execution_count": 30,
     "metadata": {},
     "output_type": "execute_result"
    }
   ],
   "source": [
    "df.head()"
   ]
  },
  {
   "cell_type": "code",
   "execution_count": 35,
   "metadata": {},
   "outputs": [],
   "source": [
    "data = df.drop(['eventItemJson','tyrooAttributionPartnerId','actionkey'],axis=1)\n",
    "#data = df['sku']['pkgName']\n",
    "dt = data.groupby(['sku']).count()"
   ]
  },
  {
   "cell_type": "code",
   "execution_count": 33,
   "metadata": {},
   "outputs": [],
   "source": [
    "data.to_csv('C:/Users/Gajraj Singh/Downloads/ounass.csv')"
   ]
  },
  {
   "cell_type": "code",
   "execution_count": 31,
   "metadata": {},
   "outputs": [],
   "source": [
    "data = df.drop(['eventitemjson'],axis=1)"
   ]
  },
  {
   "cell_type": "code",
   "execution_count": null,
   "metadata": {},
   "outputs": [],
   "source": []
  }
 ],
 "metadata": {
  "kernelspec": {
   "display_name": "Python 3",
   "language": "python",
   "name": "python3"
  },
  "language_info": {
   "codemirror_mode": {
    "name": "ipython",
    "version": 3
   },
   "file_extension": ".py",
   "mimetype": "text/x-python",
   "name": "python",
   "nbconvert_exporter": "python",
   "pygments_lexer": "ipython3",
   "version": "3.7.4"
  }
 },
 "nbformat": 4,
 "nbformat_minor": 2
}
