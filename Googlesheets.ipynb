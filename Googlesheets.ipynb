{
 "cells": [
  {
   "cell_type": "code",
   "execution_count": 8,
   "metadata": {},
   "outputs": [],
   "source": [
    "import gspread\n",
    "from oauth2client.service_account import ServiceAccountCredentials\n",
    "import json"
   ]
  },
  {
   "cell_type": "code",
   "execution_count": 10,
   "metadata": {},
   "outputs": [],
   "source": [
    "from oauth2client.service_account import ServiceAccountCredentials\n",
    "import gspread\n",
    "import json\n",
    "scopes = [\n",
    "'https://www.googleapis.com/auth/spreadsheets',\n",
    "'https://www.googleapis.com/auth/drive'\n",
    "]\n",
    "credentials = ServiceAccountCredentials.from_json_keyfile_name(\"C:/Users/Gajraj Singh/Documents/ds-project-01-336106-76cf8bc4f30a.json\", scopes) #access the json key you downloaded earlier \n",
    "file = gspread.authorize(credentials) # authenticate the JSON key with gspread\n",
    "sheet = file.open(\"test\")  #open sheet\n",
    "sheet = sheet.sheet1  #replace sheet_name with the name that corresponds to yours, e.g, it can be sheet1"
   ]
  },
  {
   "cell_type": "code",
   "execution_count": 11,
   "metadata": {},
   "outputs": [
    {
     "name": "stdout",
     "output_type": "stream",
     "text": [
      "[<Cell R1C1 'A'>, <Cell R1C2 'B'>, <Cell R1C3 'C'>, <Cell R2C1 '1'>, <Cell R2C2 '2'>, <Cell R2C3 '3'>, <Cell R3C1 ''>, <Cell R3C2 ''>, <Cell R3C3 ''>, <Cell R4C1 ''>, <Cell R4C2 ''>, <Cell R4C3 ''>, <Cell R5C1 ''>, <Cell R5C2 ''>, <Cell R5C3 ''>, <Cell R6C1 ''>, <Cell R6C2 ''>, <Cell R6C3 ''>]\n"
     ]
    }
   ],
   "source": [
    "all_cells = sheet.range('A1:C6')\n",
    "print(all_cells)"
   ]
  },
  {
   "cell_type": "code",
   "execution_count": 16,
   "metadata": {},
   "outputs": [
    {
     "data": {
      "text/plain": [
       "{'spreadsheetId': '1hjK3MIhvr7XXx4NrzbygOVHmTVu0kmzEQY5Zxv-qiag',\n",
       " 'updatedRange': 'Sheet1!A2:B3',\n",
       " 'updatedRows': 2,\n",
       " 'updatedColumns': 2,\n",
       " 'updatedCells': 4}"
      ]
     },
     "execution_count": 16,
     "metadata": {},
     "output_type": "execute_result"
    }
   ],
   "source": [
    "sheet.update('A2:B', [[\"Not Ford\", \"Not Lancia\"], [\"Nothing\", \"Not\"]])"
   ]
  },
  {
   "cell_type": "code",
   "execution_count": null,
   "metadata": {},
   "outputs": [],
   "source": []
  }
 ],
 "metadata": {
  "kernelspec": {
   "display_name": "Python 3",
   "language": "python",
   "name": "python3"
  },
  "language_info": {
   "codemirror_mode": {
    "name": "ipython",
    "version": 3
   },
   "file_extension": ".py",
   "mimetype": "text/x-python",
   "name": "python",
   "nbconvert_exporter": "python",
   "pygments_lexer": "ipython3",
   "version": "3.8.3"
  }
 },
 "nbformat": 4,
 "nbformat_minor": 4
}
