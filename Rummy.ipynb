{
 "cells": [
  {
   "cell_type": "code",
   "execution_count": 15,
   "metadata": {},
   "outputs": [],
   "source": [
    "import pandas as pd"
   ]
  },
  {
   "cell_type": "code",
   "execution_count": 135,
   "metadata": {},
   "outputs": [],
   "source": [
    "deck = [\n",
    "            'A♠', '2♠', '3♠', '4♠', '5♠', '6♠', '7♠',\n",
    "            '8♠', '9♠', '10♠', 'J♠', 'Q♠', 'K♠',\n",
    "            'A♥', '2♥', '3♥', '4♥', '5♥', '6♥', '7♥',\n",
    "            '8♥', '9♥', '10♥', 'J♥', 'Q♥', 'K♥',\n",
    "            'A♦', '2♦', '3♦', '4♦', '5♦', '6♦', '7♦',\n",
    "            '8♦', '9♦', '10♦', 'J♦', 'Q♦', 'K♦',\n",
    "            'A♣', '2♣', '3♣', '4♣', '5♣', '6♣', '7♣',\n",
    "            '8♣', '9♣', '10♣', 'J♣', 'Q♣', 'K♣'\n",
    "        ]"
   ]
  },
  {
   "cell_type": "code",
   "execution_count": 136,
   "metadata": {},
   "outputs": [],
   "source": [
    "import random\n",
    "hand = random.sample(deck, 10)"
   ]
  },
  {
   "cell_type": "code",
   "execution_count": 137,
   "metadata": {},
   "outputs": [
    {
     "data": {
      "text/plain": [
       "['2♦', '4♥', '3♦', '5♥', '10♠', 'A♦', '3♥', '6♦', '5♦', 'J♠']"
      ]
     },
     "execution_count": 137,
     "metadata": {},
     "output_type": "execute_result"
    }
   ],
   "source": [
    "hand"
   ]
  },
  {
   "cell_type": "code",
   "execution_count": 138,
   "metadata": {},
   "outputs": [],
   "source": [
    "# Function which returns subset or r length from n \n",
    "from itertools import combinations \n",
    "  \n",
    "def rSubset(arr, r): \n",
    "    return list(combinations(arr, r)) "
   ]
  },
  {
   "cell_type": "code",
   "execution_count": 139,
   "metadata": {},
   "outputs": [],
   "source": [
    "ss = rSubset(hand,3)"
   ]
  },
  {
   "cell_type": "code",
   "execution_count": 140,
   "metadata": {},
   "outputs": [
    {
     "name": "stdout",
     "output_type": "stream",
     "text": [
      "The Possible Pure ('2♦', '3♦', 'A♦')\n",
      "The Possible Pure ('2♦', '3♦', '6♦')\n",
      "The Possible Pure ('2♦', '3♦', '5♦')\n",
      "The Possible Pure ('2♦', 'A♦', '6♦')\n",
      "The Possible Pure ('2♦', 'A♦', '5♦')\n",
      "The Possible Pure ('2♦', '6♦', '5♦')\n",
      "The Possible Pure ('4♥', '5♥', '3♥')\n",
      "The Possible Pure ('3♦', 'A♦', '6♦')\n",
      "The Possible Pure ('3♦', 'A♦', '5♦')\n",
      "The Possible Pure ('3♦', '6♦', '5♦')\n",
      "The Possible Pure ('A♦', '6♦', '5♦')\n"
     ]
    }
   ],
   "source": [
    "for item in range(len(ss)):\n",
    "    if all(i in deck[:13] for i in ss[item]) == True:\n",
    "        print(\"The Possible Pure {}\".format(ss[item]))\n",
    "    elif all(i in deck[13:26] for i in ss[item]) == True:\n",
    "        print(\"The Possible Pure {}\".format(ss[item]))\n",
    "    elif all(i in deck[26:39] for i in ss[item]) == True:\n",
    "        print(\"The Possible Pure {}\".format(ss[item]))\n",
    "    elif all(i in deck[39:] for i in ss[item]) == True:\n",
    "        print(\"The Possible Pure {}\".format(ss[item]))\n",
    "    else:\n",
    "        continue\n",
    "    ls.append(ss[item])"
   ]
  },
  {
   "cell_type": "code",
   "execution_count": 105,
   "metadata": {
    "scrolled": false
   },
   "outputs": [
    {
     "data": {
      "text/plain": [
       "['A♣', '2♣', '3♣', '4♣', '5♣', '6♣', '7♣', '8♣', '9♣', 'T♣', 'J♣', 'Q♣', 'K♣']"
      ]
     },
     "execution_count": 105,
     "metadata": {},
     "output_type": "execute_result"
    }
   ],
   "source": [
    "deck[39:]"
   ]
  },
  {
   "cell_type": "code",
   "execution_count": 113,
   "metadata": {},
   "outputs": [],
   "source": [
    "ls = []"
   ]
  },
  {
   "cell_type": "code",
   "execution_count": 115,
   "metadata": {},
   "outputs": [
    {
     "data": {
      "text/plain": [
       "[('5♠', '9♠', '8♠'), ('Q♣', 'J♣', 'T♣'), ('Q♦', 'T♦', '6♦')]"
      ]
     },
     "execution_count": 115,
     "metadata": {},
     "output_type": "execute_result"
    }
   ],
   "source": [
    "ls"
   ]
  },
  {
   "cell_type": "code",
   "execution_count": null,
   "metadata": {},
   "outputs": [],
   "source": []
  }
 ],
 "metadata": {
  "kernelspec": {
   "display_name": "Python 3",
   "language": "python",
   "name": "python3"
  },
  "language_info": {
   "codemirror_mode": {
    "name": "ipython",
    "version": 3
   },
   "file_extension": ".py",
   "mimetype": "text/x-python",
   "name": "python",
   "nbconvert_exporter": "python",
   "pygments_lexer": "ipython3",
   "version": "3.7.4"
  }
 },
 "nbformat": 4,
 "nbformat_minor": 2
}
