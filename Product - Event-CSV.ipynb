{
 "cells": [
  {
   "cell_type": "code",
   "execution_count": 1,
   "metadata": {},
   "outputs": [],
   "source": [
    "import json\n",
    "import pandas as pd\n",
    "from json import dumps"
   ]
  },
  {
   "cell_type": "code",
   "execution_count": 4,
   "metadata": {},
   "outputs": [],
   "source": [
    "df = pd.read_csv('C:\\\\Users\\Gajraj\\\\Downloads\\\\NM_March_to_June_purchases2020.csv')"
   ]
  },
  {
   "cell_type": "code",
   "execution_count": 5,
   "metadata": {},
   "outputs": [
    {
     "data": {
      "text/html": [
       "<div>\n",
       "<style scoped>\n",
       "    .dataframe tbody tr th:only-of-type {\n",
       "        vertical-align: middle;\n",
       "    }\n",
       "\n",
       "    .dataframe tbody tr th {\n",
       "        vertical-align: top;\n",
       "    }\n",
       "\n",
       "    .dataframe thead th {\n",
       "        text-align: right;\n",
       "    }\n",
       "</style>\n",
       "<table border=\"1\" class=\"dataframe\">\n",
       "  <thead>\n",
       "    <tr style=\"text-align: right;\">\n",
       "      <th></th>\n",
       "      <th>eventitemjson</th>\n",
       "    </tr>\n",
       "  </thead>\n",
       "  <tbody>\n",
       "    <tr>\n",
       "      <td>67774</td>\n",
       "      <td>{\"revenue\":\"574\",\"transaction_id\":\"SA853590839...</td>\n",
       "    </tr>\n",
       "    <tr>\n",
       "      <td>67775</td>\n",
       "      <td>{\"currency\":\"USD\",\"customer_id\":\"1842396\",\"loc...</td>\n",
       "    </tr>\n",
       "    <tr>\n",
       "      <td>67776</td>\n",
       "      <td>{\"device_name\":\"iPhone\",\"sku\":\"14448AT61EYP\",\"...</td>\n",
       "    </tr>\n",
       "    <tr>\n",
       "      <td>67777</td>\n",
       "      <td>{\"currency\":\"USD\",\"is_first_order\":\"1\",\"custom...</td>\n",
       "    </tr>\n",
       "    <tr>\n",
       "      <td>67778</td>\n",
       "      <td>{\"locale\":\"ar_SA\",\"criteo_p\":\"%5B%7B%22i%22:%2...</td>\n",
       "    </tr>\n",
       "  </tbody>\n",
       "</table>\n",
       "</div>"
      ],
      "text/plain": [
       "                                           eventitemjson\n",
       "67774  {\"revenue\":\"574\",\"transaction_id\":\"SA853590839...\n",
       "67775  {\"currency\":\"USD\",\"customer_id\":\"1842396\",\"loc...\n",
       "67776  {\"device_name\":\"iPhone\",\"sku\":\"14448AT61EYP\",\"...\n",
       "67777  {\"currency\":\"USD\",\"is_first_order\":\"1\",\"custom...\n",
       "67778  {\"locale\":\"ar_SA\",\"criteo_p\":\"%5B%7B%22i%22:%2..."
      ]
     },
     "execution_count": 5,
     "metadata": {},
     "output_type": "execute_result"
    }
   ],
   "source": [
    "df.tail()"
   ]
  },
  {
   "cell_type": "code",
   "execution_count": 6,
   "metadata": {},
   "outputs": [
    {
     "data": {
      "text/plain": [
       "'{\"sku\":\"13288SH19RUP\",\"currency\":\"USD\",\"fb_content_id\":\"[\\\\\"13288SH19RUP\\\\\",\\\\\"18840AT60XCP\\\\\",\\\\\"11096AT29WPP\\\\\"]\",\"fb_value\":\"69\",\"fb_content\":\"[{\\\\\"id\\\\\":\\\\\"13288SH19RUP\\\\\",\\\\\"quantity\\\\\":1,\\\\\"item_price\\\\\": 119.00},{\\\\\"id\\\\\":\\\\\"18840AT60XCP\\\\\",\\\\\"quantity\\\\\":1,\\\\\"item_price\\\\\": 279.00},{\\\\\"id\\\\\":\\\\\"11096AT29WPP\\\\\",\\\\\"quantity\\\\\":1,\\\\\"item_price\\\\\": 139.00}]\",\"g_sku\":\"\\\\\"13288SH19RUP\\\\\",\\\\\"18840AT60XCP\\\\\",\\\\\"11096AT29WPP\\\\\"\",\"locale\":\"ar_SA\",\"customer_id\":\"3790485\",\"fb_content_type\":\"product\",\"device_name\":\"iPhone\",\"fb_currency\":\"USD\",\"criteo_p\":\"%5B%7B%22i%22:%2213288SH19RUP%22,%22pr%22:31.773001,%22q%22:1%7D,%7B%22i%22:%2218840AT60XCP%22,%22pr%22:74.492996,%22q%22:1%7D,%7B%22i%22:%2211096AT29WPP%22,%22pr%22:37.112999,%22q%22:1%7D%5D\",\"is_first_order\":\"0\",\"revenue\":\"69\",\"user_id\":\"3790485\",\"transaction_id\":\"SA833510875\"}'"
      ]
     },
     "execution_count": 6,
     "metadata": {},
     "output_type": "execute_result"
    }
   ],
   "source": [
    "df['eventitemjson'][2]"
   ]
  },
  {
   "cell_type": "code",
   "execution_count": 8,
   "metadata": {},
   "outputs": [],
   "source": [
    "def get_value(x, col) :\n",
    "    if x is None : return None\n",
    "    else : return json.loads(x).get(col)\n",
    "\n",
    "df['o_SKU'] = df['eventitemjson'].apply(lambda x: get_value(x, 'fb_content_id'))"
   ]
  },
  {
   "cell_type": "code",
   "execution_count": 15,
   "metadata": {},
   "outputs": [
    {
     "data": {
      "text/html": [
       "<div>\n",
       "<style scoped>\n",
       "    .dataframe tbody tr th:only-of-type {\n",
       "        vertical-align: middle;\n",
       "    }\n",
       "\n",
       "    .dataframe tbody tr th {\n",
       "        vertical-align: top;\n",
       "    }\n",
       "\n",
       "    .dataframe thead th {\n",
       "        text-align: right;\n",
       "    }\n",
       "</style>\n",
       "<table border=\"1\" class=\"dataframe\">\n",
       "  <thead>\n",
       "    <tr style=\"text-align: right;\">\n",
       "      <th></th>\n",
       "      <th>eventitemjson</th>\n",
       "      <th>o_SKU</th>\n",
       "    </tr>\n",
       "  </thead>\n",
       "  <tbody>\n",
       "    <tr>\n",
       "      <td>0</td>\n",
       "      <td>{\"fb_content_id\":\"[\\\"18840AT70YSP\\\",\\\"18840AT3...</td>\n",
       "      <td>[\"18840AT70YSP\",\"18840AT35IRP\"]</td>\n",
       "    </tr>\n",
       "    <tr>\n",
       "      <td>1</td>\n",
       "      <td>{\"user_id\":\"6603115\",\"fb_value\":\"105\",\"currenc...</td>\n",
       "      <td>[\"FO633AC72UJB\",\"FO633AC71UJC\",\"26584AC98DBP\",...</td>\n",
       "    </tr>\n",
       "    <tr>\n",
       "      <td>2</td>\n",
       "      <td>{\"sku\":\"13288SH19RUP\",\"currency\":\"USD\",\"fb_con...</td>\n",
       "      <td>[\"13288SH19RUP\",\"18840AT60XCP\",\"11096AT29WPP\"]</td>\n",
       "    </tr>\n",
       "    <tr>\n",
       "      <td>3</td>\n",
       "      <td>{\"fb_value\":\"40\",\"fb_currency\":\"USD\",\"criteo_p...</td>\n",
       "      <td>[\"11136AC14PJP\"]</td>\n",
       "    </tr>\n",
       "    <tr>\n",
       "      <td>4</td>\n",
       "      <td>{\"fb_currency\":\"USD\",\"revenue\":\"33\",\"fb_value\"...</td>\n",
       "      <td>[\"11096SH68UMP\"]</td>\n",
       "    </tr>\n",
       "  </tbody>\n",
       "</table>\n",
       "</div>"
      ],
      "text/plain": [
       "                                       eventitemjson  \\\n",
       "0  {\"fb_content_id\":\"[\\\"18840AT70YSP\\\",\\\"18840AT3...   \n",
       "1  {\"user_id\":\"6603115\",\"fb_value\":\"105\",\"currenc...   \n",
       "2  {\"sku\":\"13288SH19RUP\",\"currency\":\"USD\",\"fb_con...   \n",
       "3  {\"fb_value\":\"40\",\"fb_currency\":\"USD\",\"criteo_p...   \n",
       "4  {\"fb_currency\":\"USD\",\"revenue\":\"33\",\"fb_value\"...   \n",
       "\n",
       "                                               o_SKU  \n",
       "0                    [\"18840AT70YSP\",\"18840AT35IRP\"]  \n",
       "1  [\"FO633AC72UJB\",\"FO633AC71UJC\",\"26584AC98DBP\",...  \n",
       "2     [\"13288SH19RUP\",\"18840AT60XCP\",\"11096AT29WPP\"]  \n",
       "3                                   [\"11136AC14PJP\"]  \n",
       "4                                   [\"11096SH68UMP\"]  "
      ]
     },
     "execution_count": 15,
     "metadata": {},
     "output_type": "execute_result"
    }
   ],
   "source": [
    "df.head()"
   ]
  },
  {
   "cell_type": "code",
   "execution_count": 11,
   "metadata": {},
   "outputs": [
    {
     "name": "stdout",
     "output_type": "stream",
     "text": [
      "eventitemjson    object\n",
      "o_SKU            object\n",
      "dtype: object\n",
      "_________________\n",
      "18840AT70YSP\",\"18840AT35IRP\n",
      "['18840AT70YSP\"', '\"18840AT35IRP']\n",
      "['\"18840AT70YSP\"', '\"18840AT35IRP\"']\n",
      "8840AT70YSP\n",
      "840AT70YS\n",
      "8840AT35IRP\n",
      "840AT35IR\n",
      "_________________\n",
      "_________________\n",
      "FO633AC72UJB\",\"FO633AC71UJC\",\"26584AC98DBP\",\"SK592AC77ZRM\",\"22160AC19GXP\",\"KO325AC60ZXB\",\"SK592AC78ZRL\",\"28840AC14OFP\",\"28736AC43IGP\",\"WE380AC64RHV\",\"KO325AC78UMZ\n",
      "['FO633AC72UJB\"', '\"FO633AC71UJC\"', '\"26584AC98DBP\"', '\"SK592AC77ZRM\"', '\"22160AC19GXP\"', '\"KO325AC60ZXB\"', '\"SK592AC78ZRL\"', '\"28840AC14OFP\"', '\"28736AC43IGP\"', '\"WE380AC64RHV\"', '\"KO325AC78UMZ']\n",
      "['\"FO633AC72UJB\"', '\"FO633AC71UJC\"', '\"26584AC98DBP\"', '\"SK592AC77ZRM\"', '\"22160AC19GXP\"', '\"KO325AC60ZXB\"', '\"SK592AC78ZRL\"', '\"28840AC14OFP\"', '\"28736AC43IGP\"', '\"WE380AC64RHV\"', '\"KO325AC78UMZ\"']\n",
      "O633AC72UJB\n",
      "633AC72UJ\n",
      "O633AC71UJC\n",
      "633AC71UJ\n",
      "6584AC98DBP\n",
      "584AC98DB\n",
      "K592AC77ZRM\n",
      "592AC77ZR\n",
      "2160AC19GXP\n",
      "160AC19GX\n",
      "O325AC60ZXB\n",
      "325AC60ZX\n",
      "K592AC78ZRL\n",
      "592AC78ZR\n",
      "8840AC14OFP\n",
      "840AC14OF\n",
      "8736AC43IGP\n",
      "736AC43IG\n",
      "E380AC64RHV\n",
      "380AC64RH\n",
      "O325AC78UMZ\n",
      "325AC78UM\n",
      "_________________\n",
      "_________________\n",
      "13288SH19RUP\",\"18840AT60XCP\",\"11096AT29WPP\n",
      "['13288SH19RUP\"', '\"18840AT60XCP\"', '\"11096AT29WPP']\n",
      "['\"13288SH19RUP\"', '\"18840AT60XCP\"', '\"11096AT29WPP\"']\n",
      "3288SH19RUP\n",
      "288SH19RU\n",
      "8840AT60XCP\n",
      "840AT60XC\n",
      "1096AT29WPP\n",
      "096AT29WP\n",
      "_________________\n",
      "_________________\n",
      "11136AC14PJP\n",
      "['11136AC14PJP']\n",
      "['\"11136AC14PJP\"']\n",
      "1136AC14PJP\n",
      "136AC14PJ\n",
      "_________________\n",
      "_________________\n",
      "11096SH68UMP\n",
      "['11096SH68UMP']\n",
      "['\"11096SH68UMP\"']\n",
      "1096SH68UMP\n",
      "096SH68UM\n",
      "_________________\n"
     ]
    }
   ],
   "source": [
    "print(df.dtypes)\n",
    "# df['product_id'] = df['ItemDetail'].apply(lambda x:json.loads(x).get('product_id','NULL'))\n",
    "# print(df['ItemDetail'].values.tolist()[:5])\n",
    "\n",
    "data = df['o_SKU'].values.tolist()[:5]\n",
    "for d in data :\n",
    "    print(\"_________________\")\n",
    "    print(d[2:-2])\n",
    "    print(d[2:-2].split(\",\"))\n",
    "    products = d[1:-1].split(\",\")\n",
    "    print(products)\n",
    "    for pr in products:\n",
    "        print(pr.strip()[2:-1])\n",
    "        print(json.loads(pr.strip())[2:-1])\n",
    "    print(\"_________________\")"
   ]
  },
  {
   "cell_type": "code",
   "execution_count": 14,
   "metadata": {},
   "outputs": [
    {
     "data": {
      "text/html": [
       "<div>\n",
       "<style scoped>\n",
       "    .dataframe tbody tr th:only-of-type {\n",
       "        vertical-align: middle;\n",
       "    }\n",
       "\n",
       "    .dataframe tbody tr th {\n",
       "        vertical-align: top;\n",
       "    }\n",
       "\n",
       "    .dataframe thead th {\n",
       "        text-align: right;\n",
       "    }\n",
       "</style>\n",
       "<table border=\"1\" class=\"dataframe\">\n",
       "  <thead>\n",
       "    <tr style=\"text-align: right;\">\n",
       "      <th></th>\n",
       "      <th>0</th>\n",
       "    </tr>\n",
       "  </thead>\n",
       "  <tbody>\n",
       "    <tr>\n",
       "      <td>0</td>\n",
       "      <td>[\"18840AT70YSP\",\"18840AT35IRP\"]</td>\n",
       "    </tr>\n",
       "    <tr>\n",
       "      <td>1</td>\n",
       "      <td>[\"FO633AC72UJB\",\"FO633AC71UJC\",\"26584AC98DBP\",...</td>\n",
       "    </tr>\n",
       "    <tr>\n",
       "      <td>2</td>\n",
       "      <td>[\"13288SH19RUP\",\"18840AT60XCP\",\"11096AT29WPP\"]</td>\n",
       "    </tr>\n",
       "    <tr>\n",
       "      <td>3</td>\n",
       "      <td>[\"11136AC14PJP\"]</td>\n",
       "    </tr>\n",
       "    <tr>\n",
       "      <td>4</td>\n",
       "      <td>[\"11096SH68UMP\"]</td>\n",
       "    </tr>\n",
       "  </tbody>\n",
       "</table>\n",
       "</div>"
      ],
      "text/plain": [
       "                                                   0\n",
       "0                    [\"18840AT70YSP\",\"18840AT35IRP\"]\n",
       "1  [\"FO633AC72UJB\",\"FO633AC71UJC\",\"26584AC98DBP\",...\n",
       "2     [\"13288SH19RUP\",\"18840AT60XCP\",\"11096AT29WPP\"]\n",
       "3                                   [\"11136AC14PJP\"]\n",
       "4                                   [\"11096SH68UMP\"]"
      ]
     },
     "execution_count": 14,
     "metadata": {},
     "output_type": "execute_result"
    }
   ],
   "source": [
    "newdf = pd.DataFrame(data)\n",
    "newdf.head()"
   ]
  },
  {
   "cell_type": "code",
   "execution_count": null,
   "metadata": {},
   "outputs": [],
   "source": [
    "df2 = df.drop(['eventItemJson'], axis=1)"
   ]
  },
  {
   "cell_type": "code",
   "execution_count": 11,
   "metadata": {},
   "outputs": [],
   "source": [
    "df.to_csv('C:\\\\Users\\Gajraj\\\\Downloads\\\\ounass_sku_eventjson_o.csv')"
   ]
  },
  {
   "cell_type": "code",
   "execution_count": null,
   "metadata": {},
   "outputs": [],
   "source": [
    "json.loads('{\"revenue\":\"66\",\"device_name\":\"iPhone\",\"fb_content_type\":\"product\",\"fb_value\":\"66\",\"fb_content\":\"[{\\\\\"id\\\\\":\\\\\"TO279AC76TVR\\\\\",\\\\\"quantity\\\\\":1,\\\\\"item_price\\\\\": 310.00}]\",\"g_sku\":\"\\\\\"TO279AC76TVR-1376115\\\\\"\",\"customer_id\":\"7126612\",\"currency\":\"USD\",\"fb_content_id\":\"[\\\\\"TO279AC76TVR\\\\\"]\",\"is_first_order\":\"1\",\"locale\":\"ar_SA\",\"user_id\":\"7126612\",\"fb_currency\":\"USD\",\"sku\":\"TO279AC76TVR-1376115\",\"criteo_p\":\"%5B%7B%22i%22:%22TO279AC76TVR%22,%22pr%22:82.769997,%22q%22:1%7D%5D\",\"transaction_id\":\"SA7A6419478\"}')"
   ]
  },
  {
   "cell_type": "code",
   "execution_count": 8,
   "metadata": {},
   "outputs": [],
   "source": [
    "df['eventItem'] = df['eventitemjson'].apply(lambda x: json.loads(x) if pd.notnull(x) else None)\n",
    "df['fb_content'] = df['eventItem'].apply(lambda x: json.loads(x['fb_content']) if pd.notnull(x) and 'fb_content' in x else None)"
   ]
  },
  {
   "cell_type": "code",
   "execution_count": null,
   "metadata": {},
   "outputs": [],
   "source": [
    "dt = df['fb_content']"
   ]
  },
  {
   "cell_type": "code",
   "execution_count": null,
   "metadata": {},
   "outputs": [],
   "source": [
    "df.head()\n",
    "json.loads(dt[0]['fb_content'])"
   ]
  },
  {
   "cell_type": "code",
   "execution_count": null,
   "metadata": {},
   "outputs": [],
   "source": [
    "pd.DataFrame(df.fb_content.tolist())"
   ]
  },
  {
   "cell_type": "code",
   "execution_count": null,
   "metadata": {},
   "outputs": [],
   "source": [
    "df = df.dropna(subset = ['fb_content'])"
   ]
  },
  {
   "cell_type": "code",
   "execution_count": null,
   "metadata": {},
   "outputs": [],
   "source": [
    "df.shape"
   ]
  },
  {
   "cell_type": "code",
   "execution_count": 12,
   "metadata": {},
   "outputs": [
    {
     "data": {
      "text/html": [
       "<div>\n",
       "<style scoped>\n",
       "    .dataframe tbody tr th:only-of-type {\n",
       "        vertical-align: middle;\n",
       "    }\n",
       "\n",
       "    .dataframe tbody tr th {\n",
       "        vertical-align: top;\n",
       "    }\n",
       "\n",
       "    .dataframe thead th {\n",
       "        text-align: right;\n",
       "    }\n",
       "</style>\n",
       "<table border=\"1\" class=\"dataframe\">\n",
       "  <thead>\n",
       "    <tr style=\"text-align: right;\">\n",
       "      <th></th>\n",
       "      <th>eventitemjson</th>\n",
       "      <th>eventItem</th>\n",
       "      <th>fb_content</th>\n",
       "    </tr>\n",
       "  </thead>\n",
       "  <tbody>\n",
       "    <tr>\n",
       "      <th>0</th>\n",
       "      <td>{\"product_catalog_id\":\"203209696931801\",\"crite...</td>\n",
       "      <td>{'product_catalog_id': '203209696931801', 'cri...</td>\n",
       "      <td>{'id': 'SBF-AL_DP_GY', 'quantity': 1}</td>\n",
       "    </tr>\n",
       "    <tr>\n",
       "      <th>0</th>\n",
       "      <td>{\"product_catalog_id\":\"203209696931801\",\"crite...</td>\n",
       "      <td>{'product_catalog_id': '203209696931801', 'cri...</td>\n",
       "      <td>{'id': 'BP-BP8456-BLK', 'quantity': 1}</td>\n",
       "    </tr>\n",
       "    <tr>\n",
       "      <th>0</th>\n",
       "      <td>{\"product_catalog_id\":\"203209696931801\",\"crite...</td>\n",
       "      <td>{'product_catalog_id': '203209696931801', 'cri...</td>\n",
       "      <td>{'id': 'TUT-019962400-148', 'quantity': 1}</td>\n",
       "    </tr>\n",
       "    <tr>\n",
       "      <th>1</th>\n",
       "      <td>{\"fb_content\":\"[{\\\"quantity\\\":1,\\\"id\\\":\\\"VN-22...</td>\n",
       "      <td>{'fb_content': '[{\"quantity\":1,\"id\":\"VN-222237...</td>\n",
       "      <td>{'quantity': 1, 'id': 'VN-22223728'}</td>\n",
       "    </tr>\n",
       "    <tr>\n",
       "      <th>1</th>\n",
       "      <td>{\"fb_content\":\"[{\\\"quantity\\\":1,\\\"id\\\":\\\"VN-22...</td>\n",
       "      <td>{'fb_content': '[{\"quantity\":1,\"id\":\"VN-222237...</td>\n",
       "      <td>{'quantity': 1, 'id': 'VG-SB-40DCM'}</td>\n",
       "    </tr>\n",
       "  </tbody>\n",
       "</table>\n",
       "</div>"
      ],
      "text/plain": [
       "                                       eventitemjson  \\\n",
       "0  {\"product_catalog_id\":\"203209696931801\",\"crite...   \n",
       "0  {\"product_catalog_id\":\"203209696931801\",\"crite...   \n",
       "0  {\"product_catalog_id\":\"203209696931801\",\"crite...   \n",
       "1  {\"fb_content\":\"[{\\\"quantity\\\":1,\\\"id\\\":\\\"VN-22...   \n",
       "1  {\"fb_content\":\"[{\\\"quantity\\\":1,\\\"id\\\":\\\"VN-22...   \n",
       "\n",
       "                                           eventItem  \\\n",
       "0  {'product_catalog_id': '203209696931801', 'cri...   \n",
       "0  {'product_catalog_id': '203209696931801', 'cri...   \n",
       "0  {'product_catalog_id': '203209696931801', 'cri...   \n",
       "1  {'fb_content': '[{\"quantity\":1,\"id\":\"VN-222237...   \n",
       "1  {'fb_content': '[{\"quantity\":1,\"id\":\"VN-222237...   \n",
       "\n",
       "                                   fb_content  \n",
       "0       {'id': 'SBF-AL_DP_GY', 'quantity': 1}  \n",
       "0      {'id': 'BP-BP8456-BLK', 'quantity': 1}  \n",
       "0  {'id': 'TUT-019962400-148', 'quantity': 1}  \n",
       "1        {'quantity': 1, 'id': 'VN-22223728'}  \n",
       "1        {'quantity': 1, 'id': 'VG-SB-40DCM'}  "
      ]
     },
     "execution_count": 12,
     "metadata": {},
     "output_type": "execute_result"
    }
   ],
   "source": [
    "s = df.apply(lambda x: pd.Series(x['fb_content']), axis=1).stack().reset_index(level=1, drop=True)\n",
    "s.name = 'fb_content'\n",
    "df2 = df.drop('fb_content', axis=1).join(s)\n",
    "df2['fb_content'] = pd.Series(df2['fb_content'], dtype=object)\n",
    "df2.head()"
   ]
  },
  {
   "cell_type": "code",
   "execution_count": 10,
   "metadata": {},
   "outputs": [],
   "source": [
    "# df2.to_csv('E:/Work/SnapChat/ROW/Product/ounass_Top5.csv')\n",
    "df2 = df.drop(['eventitemjson','eventItem'], axis=1)\n",
    "# df2 = df.drop(['eventItem'], axis=1)"
   ]
  },
  {
   "cell_type": "code",
   "execution_count": 13,
   "metadata": {},
   "outputs": [
    {
     "data": {
      "text/plain": [
       "0           {'id': 'SBF-AL_DP_GY', 'quantity': 1}\n",
       "0          {'id': 'BP-BP8456-BLK', 'quantity': 1}\n",
       "0      {'id': 'TUT-019962400-148', 'quantity': 1}\n",
       "1            {'quantity': 1, 'id': 'VN-22223728'}\n",
       "1            {'quantity': 1, 'id': 'VG-SB-40DCM'}\n",
       "                          ...                    \n",
       "719          {'id': 'AL-ASTV1714', 'quantity': 1}\n",
       "719     {'id': 'GMG-BANAT-config', 'quantity': 1}\n",
       "720           {'id': 'GT-CH07388', 'quantity': 1}\n",
       "720                {'id': 'PA550', 'quantity': 2}\n",
       "720    {'id': 'GMG-ORNUDE-config', 'quantity': 1}\n",
       "Name: fb_content, Length: 2152, dtype: object"
      ]
     },
     "execution_count": 13,
     "metadata": {},
     "output_type": "execute_result"
    }
   ],
   "source": [
    "df2['fb_content']"
   ]
  },
  {
   "cell_type": "code",
   "execution_count": null,
   "metadata": {},
   "outputs": [],
   "source": [
    "df2['Item'] = df2['fb_content'].apply(lambda x: df['fb_content'].str.split(',',expand=True))"
   ]
  },
  {
   "cell_type": "code",
   "execution_count": 11,
   "metadata": {},
   "outputs": [
    {
     "data": {
      "text/html": [
       "<div>\n",
       "<style scoped>\n",
       "    .dataframe tbody tr th:only-of-type {\n",
       "        vertical-align: middle;\n",
       "    }\n",
       "\n",
       "    .dataframe tbody tr th {\n",
       "        vertical-align: top;\n",
       "    }\n",
       "\n",
       "    .dataframe thead th {\n",
       "        text-align: right;\n",
       "    }\n",
       "</style>\n",
       "<table border=\"1\" class=\"dataframe\">\n",
       "  <thead>\n",
       "    <tr style=\"text-align: right;\">\n",
       "      <th></th>\n",
       "      <th>fb_content</th>\n",
       "    </tr>\n",
       "  </thead>\n",
       "  <tbody>\n",
       "    <tr>\n",
       "      <th>0</th>\n",
       "      <td>[{'id': 'SBF-AL_DP_GY', 'quantity': 1}, {'id':...</td>\n",
       "    </tr>\n",
       "    <tr>\n",
       "      <th>1</th>\n",
       "      <td>[{'quantity': 1, 'id': 'VN-22223728'}, {'quant...</td>\n",
       "    </tr>\n",
       "    <tr>\n",
       "      <th>2</th>\n",
       "      <td>[{'id': 'MMZT-030.0048', 'quantity': 1}]</td>\n",
       "    </tr>\n",
       "    <tr>\n",
       "      <th>3</th>\n",
       "      <td>[{'quantity': 1, 'id': 'MMZT-030.0048'}]</td>\n",
       "    </tr>\n",
       "    <tr>\n",
       "      <th>4</th>\n",
       "      <td>[{'id': 'BK-S166-152', 'quantity': 1}]</td>\n",
       "    </tr>\n",
       "  </tbody>\n",
       "</table>\n",
       "</div>"
      ],
      "text/plain": [
       "                                          fb_content\n",
       "0  [{'id': 'SBF-AL_DP_GY', 'quantity': 1}, {'id':...\n",
       "1  [{'quantity': 1, 'id': 'VN-22223728'}, {'quant...\n",
       "2           [{'id': 'MMZT-030.0048', 'quantity': 1}]\n",
       "3           [{'quantity': 1, 'id': 'MMZT-030.0048'}]\n",
       "4             [{'id': 'BK-S166-152', 'quantity': 1}]"
      ]
     },
     "execution_count": 11,
     "metadata": {},
     "output_type": "execute_result"
    }
   ],
   "source": [
    "df2.head()"
   ]
  },
  {
   "cell_type": "code",
   "execution_count": null,
   "metadata": {},
   "outputs": [],
   "source": [
    "!pip install -U arrow"
   ]
  },
  {
   "cell_type": "code",
   "execution_count": null,
   "metadata": {},
   "outputs": [],
   "source": [
    "import arrow"
   ]
  },
  {
   "cell_type": "code",
   "execution_count": null,
   "metadata": {},
   "outputs": [],
   "source": [
    "a = arrow.utcnow()"
   ]
  },
  {
   "cell_type": "code",
   "execution_count": null,
   "metadata": {},
   "outputs": [],
   "source": [
    "a.date()"
   ]
  },
  {
   "cell_type": "code",
   "execution_count": null,
   "metadata": {},
   "outputs": [],
   "source": [
    "arrow.utcnow().format('dddd')"
   ]
  },
  {
   "cell_type": "code",
   "execution_count": null,
   "metadata": {},
   "outputs": [],
   "source": [
    "arrow.utcnow().shift(hours=-24).format('dddd')"
   ]
  },
  {
   "cell_type": "code",
   "execution_count": null,
   "metadata": {},
   "outputs": [],
   "source": []
  }
 ],
 "metadata": {
  "kernelspec": {
   "display_name": "Python 3",
   "language": "python",
   "name": "python3"
  },
  "language_info": {
   "codemirror_mode": {
    "name": "ipython",
    "version": 3
   },
   "file_extension": ".py",
   "mimetype": "text/x-python",
   "name": "python",
   "nbconvert_exporter": "python",
   "pygments_lexer": "ipython3",
   "version": "3.7.4"
  }
 },
 "nbformat": 4,
 "nbformat_minor": 2
}
