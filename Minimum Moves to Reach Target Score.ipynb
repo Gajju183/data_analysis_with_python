{
 "cells": [
  {
   "cell_type": "code",
   "execution_count": 13,
   "id": "c403fb1d",
   "metadata": {},
   "outputs": [],
   "source": [
    "def minMoves(target: int, maxDoubles: int) -> int:\n",
    "    subtract = 0\n",
    "    divide = maxDoubles\n",
    "    j = 0\n",
    "    while (target > 1):\n",
    "        if target % 2 == 0 and divide > 0 and target > 2:\n",
    "            target = target / 2\n",
    "            divide -= 1\n",
    "            j += 1\n",
    "        else:\n",
    "            target = target - 1\n",
    "            subtract += 1\n",
    "    return(subtract + j)\n"
   ]
  },
  {
   "cell_type": "code",
   "execution_count": 18,
   "id": "bf6121fa",
   "metadata": {},
   "outputs": [
    {
     "data": {
      "text/plain": [
       "6"
      ]
     },
     "execution_count": 18,
     "metadata": {},
     "output_type": "execute_result"
    }
   ],
   "source": [
    "minMoves(15,4)"
   ]
  },
  {
   "cell_type": "code",
   "execution_count": 15,
   "id": "d5921a5a",
   "metadata": {},
   "outputs": [
    {
     "data": {
      "text/plain": [
       "7"
      ]
     },
     "execution_count": 15,
     "metadata": {},
     "output_type": "execute_result"
    }
   ],
   "source": [
    "target = 19\n",
    "maxDoubles = 2\n",
    "jumps = 0\n",
    "while maxDoubles and target > 1:\n",
    "    jumps += 1 + target % 2 # adding one jump for division and if target is odd num then adding that 1\n",
    "    target //= 2 # floor Division\n",
    "    maxDoubles -= 1\n",
    "        \n",
    "\n",
    "jumps + target - 1"
   ]
  },
  {
   "cell_type": "code",
   "execution_count": 17,
   "id": "e2253efa",
   "metadata": {},
   "outputs": [
    {
     "data": {
      "text/plain": [
       "9"
      ]
     },
     "execution_count": 17,
     "metadata": {},
     "output_type": "execute_result"
    }
   ],
   "source": [
    "19//2"
   ]
  },
  {
   "cell_type": "code",
   "execution_count": null,
   "id": "5f60e768",
   "metadata": {},
   "outputs": [],
   "source": []
  }
 ],
 "metadata": {
  "kernelspec": {
   "display_name": "Python 3 (ipykernel)",
   "language": "python",
   "name": "python3"
  },
  "language_info": {
   "codemirror_mode": {
    "name": "ipython",
    "version": 3
   },
   "file_extension": ".py",
   "mimetype": "text/x-python",
   "name": "python",
   "nbconvert_exporter": "python",
   "pygments_lexer": "ipython3",
   "version": "3.10.4"
  }
 },
 "nbformat": 4,
 "nbformat_minor": 5
}
