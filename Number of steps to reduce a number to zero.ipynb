{
 "cells": [
  {
   "cell_type": "code",
   "execution_count": 5,
   "id": "5e07ea42",
   "metadata": {},
   "outputs": [],
   "source": [
    "# class Solution:\n",
    "#     def numberOfSteps(self, num: int) -> int:\n",
    "#         i = 1\n",
    "#         while num > 0:\n",
    "#             if num % 2 == 0:\n",
    "#                 num = num / 2\n",
    "#             else:\n",
    "#                 num = num - 1\n",
    "#                 continue\n",
    "#                 i +=1\n",
    "#         return num\n",
    "        "
   ]
  },
  {
   "cell_type": "code",
   "execution_count": 19,
   "id": "ac6a7087",
   "metadata": {},
   "outputs": [],
   "source": [
    "def numberOfSteps(num: int):\n",
    "    i = 1\n",
    "    while (num > 0):\n",
    "        if num % 2 == 0:\n",
    "            num = num / 2\n",
    "            i += 1\n",
    "        elif num % 2 == 1:\n",
    "            num = num - 1\n",
    "            i += 1\n",
    "    return i - 1\n",
    "\n",
    "print(numberOfSteps(19))"
   ]
  },
  {
   "cell_type": "code",
   "execution_count": 20,
   "id": "11a38e7b",
   "metadata": {},
   "outputs": [
    {
     "data": {
      "text/plain": [
       "7"
      ]
     },
     "execution_count": 20,
     "metadata": {},
     "output_type": "execute_result"
    }
   ],
   "source": [
    "numberOfSteps(19)"
   ]
  },
  {
   "cell_type": "code",
   "execution_count": 18,
   "id": "49b96024",
   "metadata": {},
   "outputs": [
    {
     "data": {
      "text/plain": [
       "9.5"
      ]
     },
     "execution_count": 18,
     "metadata": {},
     "output_type": "execute_result"
    }
   ],
   "source": [
    "19 / 2"
   ]
  },
  {
   "cell_type": "code",
   "execution_count": null,
   "id": "7e04b8e9",
   "metadata": {},
   "outputs": [],
   "source": []
  }
 ],
 "metadata": {
  "kernelspec": {
   "display_name": "Python 3 (ipykernel)",
   "language": "python",
   "name": "python3"
  },
  "language_info": {
   "codemirror_mode": {
    "name": "ipython",
    "version": 3
   },
   "file_extension": ".py",
   "mimetype": "text/x-python",
   "name": "python",
   "nbconvert_exporter": "python",
   "pygments_lexer": "ipython3",
   "version": "3.10.4"
  }
 },
 "nbformat": 4,
 "nbformat_minor": 5
}
