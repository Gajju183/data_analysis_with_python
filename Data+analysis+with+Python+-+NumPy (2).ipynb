{
 "cells": [
  {
   "cell_type": "code",
   "execution_count": 1,
   "metadata": {},
   "outputs": [
    {
     "name": "stdout",
     "output_type": "stream",
     "text": [
      "[1 2 3]\n"
     ]
    }
   ],
   "source": [
    "import numpy as np\n",
    "\n",
    "# Create a 1D array\n",
    "\n",
    "arr1 = np.array([1,2,3])\n",
    "\n",
    "print(arr1)"
   ]
  },
  {
   "cell_type": "code",
   "execution_count": 2,
   "metadata": {},
   "outputs": [
    {
     "name": "stdout",
     "output_type": "stream",
     "text": [
      "<class 'numpy.ndarray'>\n"
     ]
    }
   ],
   "source": [
    "# check the array\n",
    "\n",
    "print(type(arr1))"
   ]
  },
  {
   "cell_type": "code",
   "execution_count": 3,
   "metadata": {},
   "outputs": [
    {
     "name": "stdout",
     "output_type": "stream",
     "text": [
      "(3,)\n"
     ]
    }
   ],
   "source": [
    "# Check the shape of the array\n",
    "\n",
    "print(arr1.shape)"
   ]
  },
  {
   "cell_type": "code",
   "execution_count": 4,
   "metadata": {},
   "outputs": [
    {
     "data": {
      "text/plain": [
       "3"
      ]
     },
     "execution_count": 4,
     "metadata": {},
     "output_type": "execute_result"
    }
   ],
   "source": [
    "# accessing elements from the array\n",
    "\n",
    "arr1[2]"
   ]
  },
  {
   "cell_type": "code",
   "execution_count": 5,
   "metadata": {},
   "outputs": [],
   "source": [
    "# Change an element from the array\n",
    "\n",
    "arr1[2]= 5"
   ]
  },
  {
   "cell_type": "code",
   "execution_count": 6,
   "metadata": {},
   "outputs": [
    {
     "data": {
      "text/plain": [
       "array([1, 2, 5])"
      ]
     },
     "execution_count": 6,
     "metadata": {},
     "output_type": "execute_result"
    }
   ],
   "source": [
    "arr1"
   ]
  },
  {
   "cell_type": "code",
   "execution_count": 7,
   "metadata": {},
   "outputs": [
    {
     "name": "stdout",
     "output_type": "stream",
     "text": [
      "[[1 2 3]\n",
      " [4 5 6]]\n"
     ]
    }
   ],
   "source": [
    "# Create a 2D array\n",
    "\n",
    "arr2 = np.array([[1,2,3], [4,5,6]])\n",
    "print(arr2)"
   ]
  },
  {
   "cell_type": "code",
   "execution_count": 8,
   "metadata": {},
   "outputs": [
    {
     "name": "stdout",
     "output_type": "stream",
     "text": [
      "The shape is 2 rows and 3 columns: (2, 3)\n"
     ]
    }
   ],
   "source": [
    "# Check the shape of the array\n",
    "\n",
    "print(\"The shape is 2 rows and 3 columns:\", arr2.shape)"
   ]
  },
  {
   "cell_type": "code",
   "execution_count": 9,
   "metadata": {},
   "outputs": [
    {
     "data": {
      "text/plain": [
       "3"
      ]
     },
     "execution_count": 9,
     "metadata": {},
     "output_type": "execute_result"
    }
   ],
   "source": [
    "# Accessing elements from the array\n",
    "\n",
    "arr2[0][2]"
   ]
  },
  {
   "cell_type": "code",
   "execution_count": 10,
   "metadata": {},
   "outputs": [
    {
     "data": {
      "text/plain": [
       "3"
      ]
     },
     "execution_count": 10,
     "metadata": {},
     "output_type": "execute_result"
    }
   ],
   "source": [
    "arr2[0,2]"
   ]
  },
  {
   "cell_type": "code",
   "execution_count": 11,
   "metadata": {},
   "outputs": [
    {
     "data": {
      "text/plain": [
       "2"
      ]
     },
     "execution_count": 11,
     "metadata": {},
     "output_type": "execute_result"
    }
   ],
   "source": [
    "arr2[0,-2]"
   ]
  },
  {
   "cell_type": "code",
   "execution_count": 12,
   "metadata": {},
   "outputs": [
    {
     "data": {
      "text/plain": [
       "3"
      ]
     },
     "execution_count": 12,
     "metadata": {},
     "output_type": "execute_result"
    }
   ],
   "source": [
    "arr2[0,-1]"
   ]
  },
  {
   "cell_type": "code",
   "execution_count": 13,
   "metadata": {},
   "outputs": [
    {
     "data": {
      "text/plain": [
       "4"
      ]
     },
     "execution_count": 13,
     "metadata": {},
     "output_type": "execute_result"
    }
   ],
   "source": [
    "arr2[-1, 0]"
   ]
  },
  {
   "cell_type": "code",
   "execution_count": 14,
   "metadata": {},
   "outputs": [
    {
     "name": "stdout",
     "output_type": "stream",
     "text": [
      "['India' 'China' 'USA' 'Mexico']\n"
     ]
    }
   ],
   "source": [
    "# Array of type string\n",
    "\n",
    "arr3 = np.array(['India', 'China', 'USA' , 'Mexico'])\n",
    "print(arr3)"
   ]
  },
  {
   "cell_type": "code",
   "execution_count": 15,
   "metadata": {},
   "outputs": [
    {
     "data": {
      "text/plain": [
       "'China'"
      ]
     },
     "execution_count": 15,
     "metadata": {},
     "output_type": "execute_result"
    }
   ],
   "source": [
    "arr3[1]"
   ]
  },
  {
   "cell_type": "code",
   "execution_count": 16,
   "metadata": {},
   "outputs": [
    {
     "name": "stdout",
     "output_type": "stream",
     "text": [
      "[ 0  2  4  6  8 10 12 14 16 18]\n"
     ]
    }
   ],
   "source": [
    "# Array of evenly spaced values within a specified interval\n",
    "\n",
    "arr = np.arange(0, 20, 2)\n",
    "print(arr)"
   ]
  },
  {
   "cell_type": "code",
   "execution_count": 17,
   "metadata": {},
   "outputs": [
    {
     "name": "stdout",
     "output_type": "stream",
     "text": [
      "[ 0.          0.52631579  1.05263158  1.57894737  2.10526316  2.63157895\n",
      "  3.15789474  3.68421053  4.21052632  4.73684211  5.26315789  5.78947368\n",
      "  6.31578947  6.84210526  7.36842105  7.89473684  8.42105263  8.94736842\n",
      "  9.47368421 10.        ]\n"
     ]
    }
   ],
   "source": [
    "# Array of evenly spaced number in a specified interval\n",
    "\n",
    "arr = np.linspace(0, 10, 20)\n",
    "print(arr)"
   ]
  },
  {
   "cell_type": "code",
   "execution_count": 18,
   "metadata": {},
   "outputs": [
    {
     "name": "stdout",
     "output_type": "stream",
     "text": [
      "[0.92983529 0.77401837 0.88446233 0.30351856 0.90618958 0.73211001\n",
      " 0.8076217  0.19673348 0.94749083 0.88401531]\n",
      "\n",
      "\n",
      "[[0.15043795 0.94174252 0.82385856 0.54120723]\n",
      " [0.99500763 0.28167029 0.8607064  0.29147417]\n",
      " [0.21299199 0.95306831 0.96095294 0.68317253]]\n"
     ]
    }
   ],
   "source": [
    "# Array of random values between 0 and 1 in a given shape\n",
    "\n",
    "arr = np.random.rand(10)\n",
    "print(arr)\n",
    "print('\\n')\n",
    "arr = np.random.rand(3,4)\n",
    "print(arr)"
   ]
  },
  {
   "cell_type": "code",
   "execution_count": 19,
   "metadata": {},
   "outputs": [
    {
     "name": "stdout",
     "output_type": "stream",
     "text": [
      "[0. 0. 0. 0. 0. 0. 0. 0. 0. 0.]\n",
      "\n",
      "\n",
      "[[0. 0. 0.]\n",
      " [0. 0. 0.]]\n"
     ]
    }
   ],
   "source": [
    "# Array of zeros\n",
    "\n",
    "print(np.zeros(10))\n",
    "print('\\n')\n",
    "print(np.zeros((2,3)))"
   ]
  },
  {
   "cell_type": "code",
   "execution_count": 20,
   "metadata": {},
   "outputs": [
    {
     "name": "stdout",
     "output_type": "stream",
     "text": [
      "[[1. 1. 1. 1.]\n",
      " [1. 1. 1. 1.]\n",
      " [1. 1. 1. 1.]]\n"
     ]
    }
   ],
   "source": [
    "print(np.ones((3,4)))"
   ]
  },
  {
   "cell_type": "code",
   "execution_count": 21,
   "metadata": {},
   "outputs": [
    {
     "name": "stdout",
     "output_type": "stream",
     "text": [
      "[[10 10 10 10 10 10]\n",
      " [10 10 10 10 10 10]\n",
      " [10 10 10 10 10 10]\n",
      " [10 10 10 10 10 10]]\n"
     ]
    }
   ],
   "source": [
    "# Array of constant values in a given shape\n",
    "\n",
    "print(np.full((4,6),10))"
   ]
  },
  {
   "cell_type": "code",
   "execution_count": 22,
   "metadata": {},
   "outputs": [
    {
     "name": "stdout",
     "output_type": "stream",
     "text": [
      "[0 0 0 1 1 1 2 2 2]\n"
     ]
    }
   ],
   "source": [
    "# Create an array by repetition\n",
    "# epeat each element of an array by a specified number of times\n",
    "\n",
    "arr = [0, 1, 2]\n",
    "print(np.repeat(arr, 3)) "
   ]
  },
  {
   "cell_type": "code",
   "execution_count": 23,
   "metadata": {},
   "outputs": [
    {
     "name": "stdout",
     "output_type": "stream",
     "text": [
      "[0 1 2 0 1 2 0 1 2]\n"
     ]
    }
   ],
   "source": [
    "# Repeat an array by a specified number of times\n",
    "\n",
    "arr = [0, 1, 2]\n",
    "print(np.tile(arr, 3))"
   ]
  },
  {
   "cell_type": "code",
   "execution_count": 24,
   "metadata": {},
   "outputs": [
    {
     "name": "stdout",
     "output_type": "stream",
     "text": [
      "[[1. 0. 0.]\n",
      " [0. 1. 0.]\n",
      " [0. 0. 1.]]\n"
     ]
    }
   ],
   "source": [
    "# Create an idenity matrix\n",
    "\n",
    "identity_matrix = np.eye(3)\n",
    "print(identity_matrix)"
   ]
  },
  {
   "cell_type": "code",
   "execution_count": 25,
   "metadata": {},
   "outputs": [
    {
     "name": "stdout",
     "output_type": "stream",
     "text": [
      "[[1. 0. 0.]\n",
      " [0. 1. 0.]\n",
      " [0. 0. 1.]]\n"
     ]
    }
   ],
   "source": [
    "identity_matrix = np.identity(3)\n",
    "print(identity_matrix)"
   ]
  },
  {
   "cell_type": "code",
   "execution_count": 26,
   "metadata": {},
   "outputs": [
    {
     "name": "stdout",
     "output_type": "stream",
     "text": [
      "[[1 0 0 0 0]\n",
      " [0 2 0 0 0]\n",
      " [0 0 3 0 0]\n",
      " [0 0 0 4 0]\n",
      " [0 0 0 0 5]]\n"
     ]
    }
   ],
   "source": [
    "# Create a matrix with a specified diagonal array\n",
    "\n",
    "arr = np.diag([1,2,3,4,5])\n",
    "print(arr)"
   ]
  },
  {
   "cell_type": "code",
   "execution_count": 27,
   "metadata": {},
   "outputs": [
    {
     "name": "stdout",
     "output_type": "stream",
     "text": [
      "[[0.39051567 0.66837228 0.56709081 0.96414913 0.62413689]\n",
      " [0.87459063 0.62556704 0.18910953 0.91063039 0.43761323]\n",
      " [0.45277488 0.26569101 0.90261837 0.78692454 0.93150875]\n",
      " [0.62707543 0.89610395 0.71982589 0.55175428 0.28163528]\n",
      " [0.49669082 0.14214606 0.81434484 0.32786015 0.60804966]]\n"
     ]
    }
   ],
   "source": [
    "arr = np.random.rand(5,5)\n",
    "print(arr)"
   ]
  },
  {
   "cell_type": "code",
   "execution_count": 28,
   "metadata": {},
   "outputs": [
    {
     "name": "stdout",
     "output_type": "stream",
     "text": [
      "[0.39051567 0.62556704 0.90261837 0.55175428 0.60804966]\n"
     ]
    }
   ],
   "source": [
    "# Extract the diagonal elements in the array\n",
    "print(np.diag(arr))"
   ]
  },
  {
   "cell_type": "code",
   "execution_count": 29,
   "metadata": {},
   "outputs": [
    {
     "name": "stdout",
     "output_type": "stream",
     "text": [
      "5\n"
     ]
    }
   ],
   "source": [
    "# Display the length of the array\n",
    "print(len(arr))"
   ]
  },
  {
   "cell_type": "code",
   "execution_count": 30,
   "metadata": {},
   "outputs": [
    {
     "name": "stdout",
     "output_type": "stream",
     "text": [
      "2\n"
     ]
    }
   ],
   "source": [
    "# Display the dimension of the array\n",
    "print(arr.ndim)"
   ]
  },
  {
   "cell_type": "code",
   "execution_count": 31,
   "metadata": {},
   "outputs": [
    {
     "name": "stdout",
     "output_type": "stream",
     "text": [
      "25\n"
     ]
    }
   ],
   "source": [
    "# Display the size of the elements\n",
    "print(arr.size)"
   ]
  },
  {
   "cell_type": "code",
   "execution_count": 32,
   "metadata": {},
   "outputs": [
    {
     "name": "stdout",
     "output_type": "stream",
     "text": [
      "[-4 -4  6 -1]\n"
     ]
    }
   ],
   "source": [
    "# print 4 random integers\n",
    "\n",
    "print(np.random.randint(-10, 10, 4))"
   ]
  },
  {
   "cell_type": "code",
   "execution_count": 33,
   "metadata": {},
   "outputs": [
    {
     "name": "stdout",
     "output_type": "stream",
     "text": [
      "[[10.39051567 10.66837228 10.56709081 10.96414913 10.62413689]\n",
      " [10.87459063 10.62556704 10.18910953 10.91063039 10.43761323]\n",
      " [10.45277488 10.26569101 10.90261837 10.78692454 10.93150875]\n",
      " [10.62707543 10.89610395 10.71982589 10.55175428 10.28163528]\n",
      " [10.49669082 10.14214606 10.81434484 10.32786015 10.60804966]]\n",
      "\n",
      "\n",
      "[[-9.60948433 -9.33162772 -9.43290919 -9.03585087 -9.37586311]\n",
      " [-9.12540937 -9.37443296 -9.81089047 -9.08936961 -9.56238677]\n",
      " [-9.54722512 -9.73430899 -9.09738163 -9.21307546 -9.06849125]\n",
      " [-9.37292457 -9.10389605 -9.28017411 -9.44824572 -9.71836472]\n",
      " [-9.50330918 -9.85785394 -9.18565516 -9.67213985 -9.39195034]]\n",
      "\n",
      "\n",
      "[[3.90515673 6.68372276 5.67090811 9.64149129 6.24136885]\n",
      " [8.74590626 6.25567038 1.89109529 9.10630392 4.37613233]\n",
      " [4.5277488  2.65691009 9.02618374 7.86924539 9.31508749]\n",
      " [6.27075434 8.9610395  7.1982589  5.51754284 2.8163528 ]\n",
      " [4.96690819 1.42146063 8.14344837 3.27860147 6.08049656]]\n",
      "\n",
      "\n",
      "[[0.03905157 0.06683723 0.05670908 0.09641491 0.06241369]\n",
      " [0.08745906 0.0625567  0.01891095 0.09106304 0.04376132]\n",
      " [0.04527749 0.0265691  0.09026184 0.07869245 0.09315087]\n",
      " [0.06270754 0.0896104  0.07198259 0.05517543 0.02816353]\n",
      " [0.04966908 0.01421461 0.08143448 0.03278601 0.06080497]]\n"
     ]
    }
   ],
   "source": [
    "# Mathematical operations\n",
    "\n",
    "print(arr + 10)\n",
    "print('\\n')\n",
    "print(arr - 10)\n",
    "print('\\n')\n",
    "print(arr * 10)\n",
    "print('\\n')\n",
    "print(arr / 10)"
   ]
  },
  {
   "cell_type": "code",
   "execution_count": 34,
   "metadata": {},
   "outputs": [
    {
     "name": "stdout",
     "output_type": "stream",
     "text": [
      "[[1.47774263 1.95105895 1.7631303  2.62255525 1.86663414]\n",
      " [2.39789346 1.86930562 1.20817327 2.48588912 1.54900569]\n",
      " [1.57267011 1.30433197 2.46605171 2.19663038 2.538336  ]\n",
      " [1.8721274  2.45003902 2.05407554 1.73629631 1.32529527]\n",
      " [1.64327437 1.15274501 2.25769603 1.38799484 1.83684542]]\n"
     ]
    }
   ],
   "source": [
    "# Exponentiation\n",
    "\n",
    "print(np.exp(arr))"
   ]
  },
  {
   "cell_type": "code",
   "execution_count": 35,
   "metadata": {},
   "outputs": [
    {
     "name": "stdout",
     "output_type": "stream",
     "text": [
      "[[-0.94028717 -0.40290996 -0.56723583 -0.0365093  -0.47138557]\n",
      " [-0.13399936 -0.46909678 -1.66542891 -0.09361818 -0.82641979]\n",
      " [-0.79236023 -1.32542127 -0.10245543 -0.23962292 -0.0709497 ]\n",
      " [-0.46668844 -0.10969886 -0.32874592 -0.59465247 -1.26714238]\n",
      " [-0.69978754 -1.95090014 -0.20537137 -1.11516814 -0.49749873]]\n"
     ]
    }
   ],
   "source": [
    "# Natural logarithm\n",
    "\n",
    "print(np.log(arr))"
   ]
  },
  {
   "cell_type": "code",
   "execution_count": 36,
   "metadata": {},
   "outputs": [
    {
     "name": "stdout",
     "output_type": "stream",
     "text": [
      "[[-1.35654764 -0.5812762  -0.81834832 -0.05267178 -0.68006562]\n",
      " [-0.19332021 -0.6767636  -2.40270604 -0.13506249 -1.19227173]\n",
      " [-1.14313418 -1.91217869 -0.14781195 -0.3457028  -0.10235878]\n",
      " [-0.67328909 -0.158262   -0.4742801  -0.85790217 -1.82810002]\n",
      " [-1.00958001 -2.81455395 -0.29628826 -1.60884755 -0.71773895]]\n"
     ]
    }
   ],
   "source": [
    "# Base 2 logarithm\n",
    "\n",
    "print(np.log2(arr))"
   ]
  },
  {
   "cell_type": "code",
   "execution_count": 37,
   "metadata": {},
   "outputs": [
    {
     "name": "stdout",
     "output_type": "stream",
     "text": [
      "[[-0.40836153 -0.17498157 -0.24634739 -0.01585579 -0.20472015]\n",
      " [-0.05819518 -0.20372614 -0.72328659 -0.04065786 -0.35890955]\n",
      " [-0.34411768 -0.57562314 -0.04449583 -0.10406691 -0.03081306]\n",
      " [-0.20268021 -0.04764161 -0.14277254 -0.25825429 -0.55031294]\n",
      " [-0.30391387 -0.84726516 -0.08919165 -0.48431137 -0.21606095]]\n"
     ]
    }
   ],
   "source": [
    "# Base 10 logarithm\n",
    "\n",
    "print(np.log10(arr))"
   ]
  },
  {
   "cell_type": "code",
   "execution_count": 38,
   "metadata": {},
   "outputs": [
    {
     "name": "stdout",
     "output_type": "stream",
     "text": [
      "[[0.38066532 0.61970932 0.53718052 0.82156412 0.5843971 ]\n",
      " [0.76728103 0.58555703 0.18798437 0.78989048 0.42377882]\n",
      " [0.43746249 0.26257609 0.78495183 0.70818527 0.80252101]\n",
      " [0.58677911 0.78089915 0.65925377 0.52418199 0.27792687]\n",
      " [0.47651884 0.14166786 0.72727609 0.3220179  0.57126778]]\n"
     ]
    }
   ],
   "source": [
    "# sin function\n",
    "\n",
    "print(np.sin(arr))"
   ]
  },
  {
   "cell_type": "code",
   "execution_count": 39,
   "metadata": {},
   "outputs": [
    {
     "name": "stdout",
     "output_type": "stream",
     "text": [
      "-0.8011526357338306\n"
     ]
    }
   ],
   "source": [
    "print(np.sin(180))"
   ]
  },
  {
   "cell_type": "code",
   "execution_count": 40,
   "metadata": {},
   "outputs": [
    {
     "name": "stdout",
     "output_type": "stream",
     "text": [
      "0.0\n"
     ]
    }
   ],
   "source": [
    "print(np.sin(0))"
   ]
  },
  {
   "cell_type": "code",
   "execution_count": 41,
   "metadata": {},
   "outputs": [
    {
     "name": "stdout",
     "output_type": "stream",
     "text": [
      "[[0.92471288 0.78483142 0.8434673  0.57011613 0.81146782]\n",
      " [0.64131102 0.81063122 0.98217202 0.61324793 0.9057657 ]\n",
      " [0.89923666 0.96491129 0.6195568  0.70602665 0.59662386]\n",
      " [0.80974704 0.62465712 0.75192052 0.85160627 0.96060223]\n",
      " [0.87916426 0.98991425 0.68634502 0.94673358 0.82076375]]\n"
     ]
    }
   ],
   "source": [
    "# cos function\n",
    "\n",
    "print(np.cos(arr))"
   ]
  },
  {
   "cell_type": "code",
   "execution_count": 42,
   "metadata": {},
   "outputs": [
    {
     "name": "stdout",
     "output_type": "stream",
     "text": [
      "[[0.39051567 0.66837228 0.56709081 0.96414913 0.62413689]\n",
      " [0.87459063 0.62556704 0.18910953 0.91063039 0.43761323]\n",
      " [0.45277488 0.26569101 0.90261837 0.78692454 0.93150875]\n",
      " [0.62707543 0.89610395 0.71982589 0.55175428 0.28163528]\n",
      " [0.49669082 0.14214606 0.81434484 0.32786015 0.60804966]]\n"
     ]
    }
   ],
   "source": [
    "print(arr)"
   ]
  },
  {
   "cell_type": "code",
   "execution_count": 43,
   "metadata": {},
   "outputs": [
    {
     "name": "stdout",
     "output_type": "stream",
     "text": [
      "[2.84164743 2.59788034 3.19298944 3.54131849 2.8829438 ]\n"
     ]
    }
   ],
   "source": [
    "# sum along the row\n",
    "print(np.sum(arr, axis=0))"
   ]
  },
  {
   "cell_type": "code",
   "execution_count": 44,
   "metadata": {},
   "outputs": [
    {
     "name": "stdout",
     "output_type": "stream",
     "text": [
      "[3.21426477 3.03751082 3.33951755 3.07639484 2.38909152]\n"
     ]
    }
   ],
   "source": [
    "# sum along the column\n",
    "print(np.sum(arr, axis=1))"
   ]
  },
  {
   "cell_type": "code",
   "execution_count": 45,
   "metadata": {},
   "outputs": [
    {
     "name": "stdout",
     "output_type": "stream",
     "text": [
      "0.1421460630520005\n"
     ]
    }
   ],
   "source": [
    "# minimum item value along the row\n",
    "print(np.min(arr))"
   ]
  },
  {
   "cell_type": "code",
   "execution_count": 46,
   "metadata": {},
   "outputs": [
    {
     "name": "stdout",
     "output_type": "stream",
     "text": [
      "0.9641491288373221\n"
     ]
    }
   ],
   "source": [
    "print(np.max(arr))"
   ]
  },
  {
   "cell_type": "code",
   "execution_count": 47,
   "metadata": {},
   "outputs": [
    {
     "name": "stdout",
     "output_type": "stream",
     "text": [
      "0.602271180206397\n"
     ]
    }
   ],
   "source": [
    "# calculate the overall mean\n",
    "\n",
    "print(np.mean(arr))"
   ]
  },
  {
   "cell_type": "code",
   "execution_count": 48,
   "metadata": {},
   "outputs": [
    {
     "name": "stdout",
     "output_type": "stream",
     "text": [
      "[0.56832949 0.51957607 0.63859789 0.7082637  0.57658876]\n"
     ]
    }
   ],
   "source": [
    "# calculate the mean along the row\n",
    "\n",
    "print(np.mean(arr, axis=0))"
   ]
  },
  {
   "cell_type": "code",
   "execution_count": 49,
   "metadata": {},
   "outputs": [
    {
     "name": "stdout",
     "output_type": "stream",
     "text": [
      "0.6241368853550862\n"
     ]
    }
   ],
   "source": [
    "# calculate the median\n",
    "print(np.median(arr))"
   ]
  },
  {
   "cell_type": "code",
   "execution_count": 50,
   "metadata": {},
   "outputs": [
    {
     "name": "stdout",
     "output_type": "stream",
     "text": [
      "0.24224976717123525\n"
     ]
    }
   ],
   "source": [
    "# calculate the standard deviation\n",
    "print(np.std(arr))"
   ]
  },
  {
   "cell_type": "code",
   "execution_count": 51,
   "metadata": {},
   "outputs": [
    {
     "name": "stdout",
     "output_type": "stream",
     "text": [
      "0.058684949694517693\n"
     ]
    }
   ],
   "source": [
    "# calculate the variance\n",
    "print(np.var(arr))"
   ]
  },
  {
   "cell_type": "code",
   "execution_count": 52,
   "metadata": {},
   "outputs": [
    {
     "name": "stdout",
     "output_type": "stream",
     "text": [
      "[[0.39051567 0.66837228 0.56709081 0.96414913 0.62413689]\n",
      " [0.87459063 0.62556704 0.18910953 0.91063039 0.43761323]\n",
      " [0.45277488 0.26569101 0.90261837 0.78692454 0.93150875]\n",
      " [0.62707543 0.89610395 0.71982589 0.55175428 0.28163528]\n",
      " [0.49669082 0.14214606 0.81434484 0.32786015 0.60804966]]\n",
      "\n",
      "\n",
      "[[0.18910953 0.91063039 0.43761323]\n",
      " [0.90261837 0.78692454 0.93150875]]\n"
     ]
    }
   ],
   "source": [
    "print(arr)\n",
    "print('\\n')\n",
    "print(arr[1:3, 2:5])"
   ]
  },
  {
   "cell_type": "code",
   "execution_count": 53,
   "metadata": {},
   "outputs": [
    {
     "name": "stdout",
     "output_type": "stream",
     "text": [
      "[[0.13246669 0.56170896 0.30286588 0.98495019 0.84546984]\n",
      " [0.85896721 0.43216302 0.12416498 0.0869192  0.05972687]\n",
      " [0.80060848 0.63576306 0.64493311 0.56099898 0.73762774]\n",
      " [0.20015441 0.66440042 0.51727431 0.04151705 0.07478443]\n",
      " [0.94708391 0.49790978 0.74775076 0.21996163 0.28548979]]\n"
     ]
    }
   ],
   "source": [
    "# Sort an array\n",
    "arr = np.random.rand(5,5)\n",
    "print(arr)"
   ]
  },
  {
   "cell_type": "code",
   "execution_count": 54,
   "metadata": {},
   "outputs": [
    {
     "name": "stdout",
     "output_type": "stream",
     "text": [
      "[[0.13246669 0.30286588 0.56170896 0.84546984 0.98495019]\n",
      " [0.05972687 0.0869192  0.12416498 0.43216302 0.85896721]\n",
      " [0.56099898 0.63576306 0.64493311 0.73762774 0.80060848]\n",
      " [0.04151705 0.07478443 0.20015441 0.51727431 0.66440042]\n",
      " [0.21996163 0.28548979 0.49790978 0.74775076 0.94708391]]\n"
     ]
    }
   ],
   "source": [
    "# sort along the column\n",
    "\n",
    "print(np.sort(arr, axis=1))"
   ]
  },
  {
   "cell_type": "code",
   "execution_count": 55,
   "metadata": {},
   "outputs": [
    {
     "name": "stdout",
     "output_type": "stream",
     "text": [
      "[[0.13246669 0.56170896 0.30286588 0.98495019 0.84546984]\n",
      " [0.85896721 0.43216302 0.12416498 0.0869192  0.05972687]\n",
      " [0.80060848 0.63576306 0.64493311 0.56099898 0.73762774]\n",
      " [0.20015441 0.66440042 0.51727431 0.04151705 0.07478443]\n",
      " [0.94708391 0.49790978 0.74775076 0.21996163 0.28548979]]\n",
      "\n",
      "\n",
      "[[0.13246669 0.85896721 0.80060848 0.20015441 0.94708391]\n",
      " [0.56170896 0.43216302 0.63576306 0.66440042 0.49790978]\n",
      " [0.30286588 0.12416498 0.64493311 0.51727431 0.74775076]\n",
      " [0.98495019 0.0869192  0.56099898 0.04151705 0.21996163]\n",
      " [0.84546984 0.05972687 0.73762774 0.07478443 0.28548979]]\n"
     ]
    }
   ],
   "source": [
    "# Transpose an array\n",
    "print(arr)\n",
    "print('\\n')\n",
    "print(arr.T)"
   ]
  },
  {
   "cell_type": "code",
   "execution_count": 56,
   "metadata": {},
   "outputs": [
    {
     "name": "stdout",
     "output_type": "stream",
     "text": [
      "[[0.13246669 0.85896721 0.80060848 0.20015441 0.94708391]\n",
      " [0.56170896 0.43216302 0.63576306 0.66440042 0.49790978]\n",
      " [0.30286588 0.12416498 0.64493311 0.51727431 0.74775076]\n",
      " [0.98495019 0.0869192  0.56099898 0.04151705 0.21996163]\n",
      " [0.84546984 0.05972687 0.73762774 0.07478443 0.28548979]]\n"
     ]
    }
   ],
   "source": [
    "print(arr.transpose())"
   ]
  },
  {
   "cell_type": "code",
   "execution_count": 57,
   "metadata": {},
   "outputs": [
    {
     "name": "stdout",
     "output_type": "stream",
     "text": [
      "[[0.13246669 0.56170896 0.30286588 0.98495019 0.84546984]\n",
      " [0.85896721 0.43216302 0.12416498 0.0869192  0.05972687]\n",
      " [0.80060848 0.63576306 0.64493311 0.56099898 0.73762774]\n",
      " [0.20015441 0.66440042 0.51727431 0.04151705 0.07478443]\n",
      " [0.94708391 0.49790978 0.74775076 0.21996163 0.28548979]]\n",
      "\n",
      "\n",
      "[0.13246669 0.56170896 0.30286588 0.98495019 0.84546984 0.85896721\n",
      " 0.43216302 0.12416498 0.0869192  0.05972687 0.80060848 0.63576306\n",
      " 0.64493311 0.56099898 0.73762774 0.20015441 0.66440042 0.51727431\n",
      " 0.04151705 0.07478443 0.94708391 0.49790978 0.74775076 0.21996163\n",
      " 0.28548979]\n"
     ]
    }
   ],
   "source": [
    "# Flatten the 2D array\n",
    "\n",
    "print(arr)\n",
    "print('\\n')\n",
    "print(arr.flatten())"
   ]
  },
  {
   "cell_type": "code",
   "execution_count": 58,
   "metadata": {},
   "outputs": [],
   "source": [
    "# Append elements to an array\n",
    "\n",
    "arr = np.array([4,5,6,7])"
   ]
  },
  {
   "cell_type": "code",
   "execution_count": 59,
   "metadata": {},
   "outputs": [
    {
     "data": {
      "text/plain": [
       "array([4, 5, 6, 7, 8])"
      ]
     },
     "execution_count": 59,
     "metadata": {},
     "output_type": "execute_result"
    }
   ],
   "source": [
    "arr1 = np.append(arr, 8)\n",
    "arr1"
   ]
  },
  {
   "cell_type": "code",
   "execution_count": 60,
   "metadata": {},
   "outputs": [
    {
     "name": "stdout",
     "output_type": "stream",
     "text": [
      "[ 4  5  6  7  9 10 11]\n"
     ]
    }
   ],
   "source": [
    "arr2 = np.append(arr, [9,10,11])\n",
    "print(arr2)"
   ]
  },
  {
   "cell_type": "code",
   "execution_count": 61,
   "metadata": {},
   "outputs": [
    {
     "name": "stdout",
     "output_type": "stream",
     "text": [
      "[12 13 14  4  5  6  7]\n"
     ]
    }
   ],
   "source": [
    "# Insert elements to an array\n",
    "\n",
    "arr3 = np.insert(arr, 0, [12,13,14])\n",
    "print(arr3)"
   ]
  },
  {
   "cell_type": "code",
   "execution_count": 62,
   "metadata": {},
   "outputs": [
    {
     "name": "stdout",
     "output_type": "stream",
     "text": [
      "[4 5 6 7]\n",
      "\n",
      "\n",
      "[5 6 7]\n"
     ]
    }
   ],
   "source": [
    "# Remove elements from an array\n",
    "\n",
    "print(arr)\n",
    "print('\\n')\n",
    "arr4 = np.delete(arr, 0)\n",
    "print(arr4)"
   ]
  },
  {
   "cell_type": "code",
   "execution_count": 63,
   "metadata": {},
   "outputs": [
    {
     "name": "stdout",
     "output_type": "stream",
     "text": [
      "[ 4  5  6  7  9 10 11]\n",
      "\n",
      "\n",
      "[ 4  6  7 10 11]\n"
     ]
    }
   ],
   "source": [
    "# Delete multiple elements\n",
    "\n",
    "print(arr2)\n",
    "print('\\n')\n",
    "arr5 = np.delete(arr2, [1,4])\n",
    "print(arr5)"
   ]
  },
  {
   "cell_type": "code",
   "execution_count": 64,
   "metadata": {},
   "outputs": [
    {
     "data": {
      "text/plain": [
       "array([10, 13, 16, 19, 22, 25, 28, 31, 34, 37])"
      ]
     },
     "execution_count": 64,
     "metadata": {},
     "output_type": "execute_result"
    }
   ],
   "source": [
    "# Copy elements from an array\n",
    "\n",
    "arr1 = np.arange(10, 40, 3)\n",
    "arr1"
   ]
  },
  {
   "cell_type": "code",
   "execution_count": 65,
   "metadata": {},
   "outputs": [
    {
     "data": {
      "text/plain": [
       "array([10, 13, 16, 19, 22, 25, 28, 31, 34, 37])"
      ]
     },
     "execution_count": 65,
     "metadata": {},
     "output_type": "execute_result"
    }
   ],
   "source": [
    "arr_copy = np.copy(arr1)\n",
    "arr_copy"
   ]
  },
  {
   "cell_type": "code",
   "execution_count": 66,
   "metadata": {},
   "outputs": [
    {
     "name": "stdout",
     "output_type": "stream",
     "text": [
      "[10 13 16 19 22 25 28 31 34 37]\n"
     ]
    }
   ],
   "source": [
    "arr_copy = arr1.copy()\n",
    "print(arr_copy)"
   ]
  },
  {
   "cell_type": "code",
   "execution_count": 67,
   "metadata": {},
   "outputs": [],
   "source": [
    "# Combine and split an array\n",
    "\n",
    "arr1 = np.array([[1,2,3,4], [1,2,3,4]])\n",
    "arr2 = np.array([[5,6,7,8], [5,6,7,8]])"
   ]
  },
  {
   "cell_type": "code",
   "execution_count": 68,
   "metadata": {},
   "outputs": [
    {
     "name": "stdout",
     "output_type": "stream",
     "text": [
      "[[1 2 3 4]\n",
      " [1 2 3 4]\n",
      " [5 6 7 8]\n",
      " [5 6 7 8]]\n"
     ]
    }
   ],
   "source": [
    "# Combine the array items by row\n",
    "\n",
    "cat = np.concatenate((arr1,arr2), axis=0)\n",
    "print(cat)"
   ]
  },
  {
   "cell_type": "code",
   "execution_count": 69,
   "metadata": {},
   "outputs": [
    {
     "name": "stdout",
     "output_type": "stream",
     "text": [
      "[[1 2 3 4 5 6 7 8]\n",
      " [1 2 3 4 5 6 7 8]]\n"
     ]
    }
   ],
   "source": [
    "# Combine array items by column\n",
    "\n",
    "cat = np. concatenate((arr1, arr2), axis=1)\n",
    "print(cat)"
   ]
  },
  {
   "cell_type": "code",
   "execution_count": 70,
   "metadata": {},
   "outputs": [
    {
     "name": "stdout",
     "output_type": "stream",
     "text": [
      "[[1 2 3 4]\n",
      " [1 2 3 4]\n",
      " [5 6 7 8]\n",
      " [5 6 7 8]]\n"
     ]
    }
   ],
   "source": [
    "# stack arrays vertically\n",
    "cat = np.vstack((arr1, arr2))\n",
    "print(cat)"
   ]
  },
  {
   "cell_type": "code",
   "execution_count": 71,
   "metadata": {},
   "outputs": [
    {
     "name": "stdout",
     "output_type": "stream",
     "text": [
      "[[1 2 3 4 5 6 7 8]\n",
      " [1 2 3 4 5 6 7 8]]\n"
     ]
    }
   ],
   "source": [
    "# Stack arrays horizontally\n",
    "cat = np.hstack((arr1, arr2))\n",
    "print(cat)"
   ]
  },
  {
   "cell_type": "code",
   "execution_count": 72,
   "metadata": {},
   "outputs": [
    {
     "name": "stdout",
     "output_type": "stream",
     "text": [
      "[1 2 3 4 5 6]\n"
     ]
    }
   ],
   "source": [
    "# Set operations\n",
    "\n",
    "# Find elements from an array\n",
    "arr = np.array([1,2,3,4,5,6,3,6,1,2,4])\n",
    "print(np.unique(arr))"
   ]
  },
  {
   "cell_type": "code",
   "execution_count": 73,
   "metadata": {},
   "outputs": [
    {
     "name": "stdout",
     "output_type": "stream",
     "text": [
      "[1 2 3 4 5 6]\n",
      "[2 2 2 1 1 1]\n"
     ]
    }
   ],
   "source": [
    "# return the number of times each unique item appears\n",
    "arr = np.array([1,1,2,2,3,3,4,5,6])\n",
    "uniques, counts = np.unique(arr, return_counts=True)\n",
    "print(uniques)\n",
    "print(counts)"
   ]
  },
  {
   "cell_type": "code",
   "execution_count": 74,
   "metadata": {},
   "outputs": [],
   "source": [
    "# Intersection of 2 array elements\n",
    "\n",
    "arr1 = np.array([1,2,3,4,5])\n",
    "arr2 = np.array([3,4,5,6,7])"
   ]
  },
  {
   "cell_type": "code",
   "execution_count": 75,
   "metadata": {},
   "outputs": [
    {
     "name": "stdout",
     "output_type": "stream",
     "text": [
      "[3 4 5]\n"
     ]
    }
   ],
   "source": [
    "print(np.intersect1d(arr1, arr2))"
   ]
  },
  {
   "cell_type": "code",
   "execution_count": 76,
   "metadata": {},
   "outputs": [
    {
     "name": "stdout",
     "output_type": "stream",
     "text": [
      "[1 2 3 4 5 6 7]\n"
     ]
    }
   ],
   "source": [
    "# Union of 2 array elements\n",
    "\n",
    "print(np.union1d(arr1, arr2))"
   ]
  },
  {
   "cell_type": "code",
   "execution_count": 77,
   "metadata": {},
   "outputs": [
    {
     "name": "stdout",
     "output_type": "stream",
     "text": [
      "[1 2]\n",
      "[6 7]\n"
     ]
    }
   ],
   "source": [
    "# Elements present in first array but not in the second array\n",
    "print(np.setdiff1d(arr1, arr2))\n",
    "print(np.setdiff1d(arr2, arr1))"
   ]
  },
  {
   "cell_type": "code",
   "execution_count": 78,
   "metadata": {},
   "outputs": [
    {
     "name": "stdout",
     "output_type": "stream",
     "text": [
      "[1 2 6 7]\n"
     ]
    }
   ],
   "source": [
    "# Elements present in either of the arrays but not both\n",
    "\n",
    "print(np.setxor1d(arr1, arr2))"
   ]
  },
  {
   "cell_type": "code",
   "execution_count": null,
   "metadata": {},
   "outputs": [],
   "source": []
  }
 ],
 "metadata": {
  "kernelspec": {
   "display_name": "Python 3 (ipykernel)",
   "language": "python",
   "name": "python3"
  },
  "language_info": {
   "codemirror_mode": {
    "name": "ipython",
    "version": 3
   },
   "file_extension": ".py",
   "mimetype": "text/x-python",
   "name": "python",
   "nbconvert_exporter": "python",
   "pygments_lexer": "ipython3",
   "version": "3.10.2"
  }
 },
 "nbformat": 4,
 "nbformat_minor": 2
}
