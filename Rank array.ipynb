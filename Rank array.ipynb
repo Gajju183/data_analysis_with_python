{
 "cells": [
  {
   "cell_type": "code",
   "execution_count": 5,
   "id": "7ad16854",
   "metadata": {},
   "outputs": [],
   "source": [
    "import numpy as np\n",
    "\n",
    "array = np.array([4,2,7,1])\n",
    "temp = array.argsort(-1)\n",
    "ranks = np.empty_like(temp)\n",
    "ranks[temp] = np.arange(len(array))\n"
   ]
  },
  {
   "cell_type": "code",
   "execution_count": 6,
   "id": "0169cb3b",
   "metadata": {},
   "outputs": [
    {
     "data": {
      "text/plain": [
       "array([0, 1, 2, 3])"
      ]
     },
     "execution_count": 6,
     "metadata": {},
     "output_type": "execute_result"
    }
   ],
   "source": [
    "ranks[temp]"
   ]
  },
  {
   "cell_type": "code",
   "execution_count": 7,
   "id": "ad291a83",
   "metadata": {},
   "outputs": [
    {
     "data": {
      "text/plain": [
       "array([3, 1, 0, 2])"
      ]
     },
     "execution_count": 7,
     "metadata": {},
     "output_type": "execute_result"
    }
   ],
   "source": [
    "temp"
   ]
  },
  {
   "cell_type": "code",
   "execution_count": 35,
   "id": "23472248",
   "metadata": {},
   "outputs": [],
   "source": [
    "def arrayRankTransform(arr:int):\n",
    "        d={}\n",
    "        nums=sorted(list(set(arr)))\n",
    "        for i in range(len(nums)):\n",
    "            d[nums[i]]=i+1\n",
    "        return [d[i] for i in arr]"
   ]
  },
  {
   "cell_type": "code",
   "execution_count": 36,
   "id": "735ea0f1",
   "metadata": {},
   "outputs": [
    {
     "data": {
      "text/plain": [
       "[4, 1, 2, 3]"
      ]
     },
     "execution_count": 36,
     "metadata": {},
     "output_type": "execute_result"
    }
   ],
   "source": [
    "arrayRankTransform([40,10,20,30])"
   ]
  },
  {
   "cell_type": "code",
   "execution_count": 1,
   "id": "1ffe8e0d",
   "metadata": {},
   "outputs": [],
   "source": [
    "# arr = [40,10,20,30]\n",
    "# d={}\n",
    "# nums=sorted(list(set(arr)))\n",
    "# for i in range(len(nums)):\n",
    "#     d[nums[i]]=i+1\n",
    "#     ls = [d[i] for i in arr]\n",
    "#     print(ls)\n"
   ]
  },
  {
   "cell_type": "code",
   "execution_count": 41,
   "id": "62f4ebd7",
   "metadata": {},
   "outputs": [],
   "source": [
    "aa = [1,2,3,4,5]"
   ]
  },
  {
   "cell_type": "code",
   "execution_count": 13,
   "id": "a154a71a",
   "metadata": {},
   "outputs": [
    {
     "name": "stdout",
     "output_type": "stream",
     "text": [
      "1\n",
      "1 ->\n",
      "-------------\n",
      "3\n",
      "3 <-\n",
      "-------------\n",
      "5\n",
      "6 ->\n",
      "-------------\n",
      "5\n",
      "8 <-\n",
      "-------------\n",
      "9\n",
      "15 ->\n",
      "-------------\n",
      "9\n",
      "17 <-\n",
      "-------------\n",
      "-------------\n",
      "2\n"
     ]
    }
   ],
   "source": [
    "import numpy as np\n",
    "arr = np.array([[1, 2, 3], [4, 5, 6],[9,8,9]])\n",
    "\n",
    "a,b = 0,0\n",
    "for i in range(len(arr)):\n",
    "    a += arr[i][i]\n",
    "    print(arr[i][i])\n",
    "    print(a,\"->\")\n",
    "    print(\"-------------\")\n",
    "    b += arr[i][-i-1]\n",
    "    print(arr[i][-i-1])\n",
    "    print(b,\"<-\")\n",
    "    print(\"-------------\")\n",
    "    \n",
    "print(\"-------------\")\n",
    "print(abs(a-b))"
   ]
  },
  {
   "cell_type": "code",
   "execution_count": 9,
   "id": "4b2df4b5",
   "metadata": {},
   "outputs": [
    {
     "data": {
      "text/plain": [
       "array([[1, 2, 3],\n",
       "       [4, 5, 6],\n",
       "       [7, 8, 9]])"
      ]
     },
     "execution_count": 9,
     "metadata": {},
     "output_type": "execute_result"
    }
   ],
   "source": [
    "arr"
   ]
  },
  {
   "cell_type": "code",
   "execution_count": null,
   "id": "f176e404",
   "metadata": {},
   "outputs": [],
   "source": []
  }
 ],
 "metadata": {
  "kernelspec": {
   "display_name": "Python 3 (ipykernel)",
   "language": "python",
   "name": "python3"
  },
  "language_info": {
   "codemirror_mode": {
    "name": "ipython",
    "version": 3
   },
   "file_extension": ".py",
   "mimetype": "text/x-python",
   "name": "python",
   "nbconvert_exporter": "python",
   "pygments_lexer": "ipython3",
   "version": "3.10.4"
  }
 },
 "nbformat": 4,
 "nbformat_minor": 5
}
