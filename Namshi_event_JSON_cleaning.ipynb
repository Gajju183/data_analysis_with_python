{
 "cells": [
  {
   "cell_type": "code",
   "execution_count": 31,
   "metadata": {},
   "outputs": [],
   "source": [
    "import pandas as pd\n",
    "import json"
   ]
  },
  {
   "cell_type": "code",
   "execution_count": 32,
   "metadata": {},
   "outputs": [],
   "source": [
    "df = pd.read_csv('C:\\\\Users\\Gajra\\\\Downloads\\\\namashi_brand.csv')"
   ]
  },
  {
   "cell_type": "code",
   "execution_count": 33,
   "metadata": {},
   "outputs": [
    {
     "data": {
      "text/html": [
       "<div>\n",
       "<style scoped>\n",
       "    .dataframe tbody tr th:only-of-type {\n",
       "        vertical-align: middle;\n",
       "    }\n",
       "\n",
       "    .dataframe tbody tr th {\n",
       "        vertical-align: top;\n",
       "    }\n",
       "\n",
       "    .dataframe thead th {\n",
       "        text-align: right;\n",
       "    }\n",
       "</style>\n",
       "<table border=\"1\" class=\"dataframe\">\n",
       "  <thead>\n",
       "    <tr style=\"text-align: right;\">\n",
       "      <th></th>\n",
       "      <th>Month</th>\n",
       "      <th>brand</th>\n",
       "      <th>eventItemJson</th>\n",
       "    </tr>\n",
       "  </thead>\n",
       "  <tbody>\n",
       "    <tr>\n",
       "      <th>0</th>\n",
       "      <td>7</td>\n",
       "      <td>L'Oreal Professionnel</td>\n",
       "      <td>{\"fb_content_type\":\"product\",\"sku\":\"26552AC06Q...</td>\n",
       "    </tr>\n",
       "    <tr>\n",
       "      <th>1</th>\n",
       "      <td>7</td>\n",
       "      <td>L'Oreal Professionnel</td>\n",
       "      <td>{\"is_first_order\":\"0\",\"customer_id\":\"2339769\",...</td>\n",
       "    </tr>\n",
       "    <tr>\n",
       "      <th>2</th>\n",
       "      <td>7</td>\n",
       "      <td>Kerastase</td>\n",
       "      <td>{\"fb_currency\":\"USD\",\"transaction_id\":\"SA87502...</td>\n",
       "    </tr>\n",
       "    <tr>\n",
       "      <th>3</th>\n",
       "      <td>7</td>\n",
       "      <td>Kerastase</td>\n",
       "      <td>{\"fb_currency\":\"USD\",\"transaction_id\":\"SA87502...</td>\n",
       "    </tr>\n",
       "    <tr>\n",
       "      <th>4</th>\n",
       "      <td>7</td>\n",
       "      <td>Kerastase</td>\n",
       "      <td>{\"fb_currency\":\"USD\",\"transaction_id\":\"SA87502...</td>\n",
       "    </tr>\n",
       "  </tbody>\n",
       "</table>\n",
       "</div>"
      ],
      "text/plain": [
       "   Month                  brand  \\\n",
       "0      7  L'Oreal Professionnel   \n",
       "1      7  L'Oreal Professionnel   \n",
       "2      7              Kerastase   \n",
       "3      7              Kerastase   \n",
       "4      7              Kerastase   \n",
       "\n",
       "                                       eventItemJson  \n",
       "0  {\"fb_content_type\":\"product\",\"sku\":\"26552AC06Q...  \n",
       "1  {\"is_first_order\":\"0\",\"customer_id\":\"2339769\",...  \n",
       "2  {\"fb_currency\":\"USD\",\"transaction_id\":\"SA87502...  \n",
       "3  {\"fb_currency\":\"USD\",\"transaction_id\":\"SA87502...  \n",
       "4  {\"fb_currency\":\"USD\",\"transaction_id\":\"SA87502...  "
      ]
     },
     "execution_count": 33,
     "metadata": {},
     "output_type": "execute_result"
    }
   ],
   "source": [
    "df.head()"
   ]
  },
  {
   "cell_type": "code",
   "execution_count": 34,
   "metadata": {},
   "outputs": [
    {
     "data": {
      "text/plain": [
       "'{\"fb_currency\":\"USD\",\"transaction_id\":\"SA875020813\",\"customer_id\":\"1406480\",\"user_id\":\"1406480\",\"sku\":\"30992AC19LJP\",\"locale\":\"ar_SA\",\"fb_content_type\":\"product\",\"criteo_p\":\"%5B%7B%22i%22:%2230992AC19LJP%22,%22pr%22:66.216003,%22q%22:1%7D,%7B%22i%22:%2230992AC20MCP%22,%22pr%22:42.987000,%22q%22:1%7D,%7B%22i%22:%2230992AC21ALP%22,%22pr%22:36.846001,%22q%22:1%7D%5D\",\"fb_content\":\"[{\\\\\"id\\\\\":\\\\\"30992AC19LJP\\\\\",\\\\\"quantity\\\\\":1,\\\\\"item_price\\\\\": 248.00},{\\\\\"id\\\\\":\\\\\"30992AC20MCP\\\\\",\\\\\"quantity\\\\\":1,\\\\\"item_price\\\\\": 161.00},{\\\\\"id\\\\\":\\\\\"30992AC21ALP\\\\\",\\\\\"quantity\\\\\":1,\\\\\"item_price\\\\\": 138.00}]\",\"is_first_order\":\"0\",\"fb_value\":\"145\",\"currency\":\"USD\",\"revenue\":\"145\",\"device_name\":\"iPhone\",\"fb_content_id\":\"[\\\\\"30992AC19LJP\\\\\",\\\\\"30992AC20MCP\\\\\",\\\\\"30992AC21ALP\\\\\"]\",\"g_sku\":\"\\\\\"30992AC19LJP\\\\\",\\\\\"30992AC20MCP\\\\\",\\\\\"30992AC21ALP\\\\\"\"}'"
      ]
     },
     "execution_count": 34,
     "metadata": {},
     "output_type": "execute_result"
    }
   ],
   "source": [
    "df['eventItemJson'][2]"
   ]
  },
  {
   "cell_type": "code",
   "execution_count": 35,
   "metadata": {},
   "outputs": [],
   "source": [
    "def get_value(x, col) :\n",
    "    if x is None : val = None\n",
    "    else : val = json.loads(x).get(col)\n",
    "    if val is not None and col == 'Purchases' :\n",
    "        val = \"\".join(list(filter(lambda x:x.isdigit(), val)))\n",
    "#         print(val)\n",
    "        val = float(val) \n",
    "    return val\n",
    "\n",
    "df['Purchase_Value'] = df['eventItemJson'].apply(lambda x: get_value(x, 'revenue'))"
   ]
  },
  {
   "cell_type": "code",
   "execution_count": 36,
   "metadata": {},
   "outputs": [
    {
     "data": {
      "text/html": [
       "<div>\n",
       "<style scoped>\n",
       "    .dataframe tbody tr th:only-of-type {\n",
       "        vertical-align: middle;\n",
       "    }\n",
       "\n",
       "    .dataframe tbody tr th {\n",
       "        vertical-align: top;\n",
       "    }\n",
       "\n",
       "    .dataframe thead th {\n",
       "        text-align: right;\n",
       "    }\n",
       "</style>\n",
       "<table border=\"1\" class=\"dataframe\">\n",
       "  <thead>\n",
       "    <tr style=\"text-align: right;\">\n",
       "      <th></th>\n",
       "      <th>Month</th>\n",
       "      <th>brand</th>\n",
       "      <th>eventItemJson</th>\n",
       "      <th>Purchase_Value</th>\n",
       "    </tr>\n",
       "  </thead>\n",
       "  <tbody>\n",
       "    <tr>\n",
       "      <th>0</th>\n",
       "      <td>7</td>\n",
       "      <td>L'Oreal Professionnel</td>\n",
       "      <td>{\"fb_content_type\":\"product\",\"sku\":\"26552AC06Q...</td>\n",
       "      <td>94</td>\n",
       "    </tr>\n",
       "    <tr>\n",
       "      <th>1</th>\n",
       "      <td>7</td>\n",
       "      <td>L'Oreal Professionnel</td>\n",
       "      <td>{\"is_first_order\":\"0\",\"customer_id\":\"2339769\",...</td>\n",
       "      <td>67</td>\n",
       "    </tr>\n",
       "    <tr>\n",
       "      <th>2</th>\n",
       "      <td>7</td>\n",
       "      <td>Kerastase</td>\n",
       "      <td>{\"fb_currency\":\"USD\",\"transaction_id\":\"SA87502...</td>\n",
       "      <td>145</td>\n",
       "    </tr>\n",
       "    <tr>\n",
       "      <th>3</th>\n",
       "      <td>7</td>\n",
       "      <td>Kerastase</td>\n",
       "      <td>{\"fb_currency\":\"USD\",\"transaction_id\":\"SA87502...</td>\n",
       "      <td>145</td>\n",
       "    </tr>\n",
       "    <tr>\n",
       "      <th>4</th>\n",
       "      <td>7</td>\n",
       "      <td>Kerastase</td>\n",
       "      <td>{\"fb_currency\":\"USD\",\"transaction_id\":\"SA87502...</td>\n",
       "      <td>145</td>\n",
       "    </tr>\n",
       "  </tbody>\n",
       "</table>\n",
       "</div>"
      ],
      "text/plain": [
       "   Month                  brand  \\\n",
       "0      7  L'Oreal Professionnel   \n",
       "1      7  L'Oreal Professionnel   \n",
       "2      7              Kerastase   \n",
       "3      7              Kerastase   \n",
       "4      7              Kerastase   \n",
       "\n",
       "                                       eventItemJson Purchase_Value  \n",
       "0  {\"fb_content_type\":\"product\",\"sku\":\"26552AC06Q...             94  \n",
       "1  {\"is_first_order\":\"0\",\"customer_id\":\"2339769\",...             67  \n",
       "2  {\"fb_currency\":\"USD\",\"transaction_id\":\"SA87502...            145  \n",
       "3  {\"fb_currency\":\"USD\",\"transaction_id\":\"SA87502...            145  \n",
       "4  {\"fb_currency\":\"USD\",\"transaction_id\":\"SA87502...            145  "
      ]
     },
     "execution_count": 36,
     "metadata": {},
     "output_type": "execute_result"
    }
   ],
   "source": [
    "df.head()"
   ]
  },
  {
   "cell_type": "code",
   "execution_count": 37,
   "metadata": {},
   "outputs": [],
   "source": [
    "df.to_csv('C:\\\\Users\\Gajra\\\\Downloads\\\\namashi_brand_out1.csv')"
   ]
  },
  {
   "cell_type": "code",
   "execution_count": null,
   "metadata": {},
   "outputs": [],
   "source": [
    "df2 = df.drop(['eventitemjson'], axis=1)"
   ]
  },
  {
   "cell_type": "code",
   "execution_count": null,
   "metadata": {},
   "outputs": [],
   "source": [
    "df2.head()"
   ]
  },
  {
   "cell_type": "code",
   "execution_count": null,
   "metadata": {},
   "outputs": [],
   "source": [
    "s = df2.apply(lambda x: x.split(\",\"), df2['Purchases']).unstack().reset_index(level=1, drop=True)\n",
    "s.name = 'Purchases'\n",
    "df1 = df2.drop('Purchases', axis=1).join(s)\n",
    "df1['SKU'] = pd.Series(df1['Purchases'], dtype=object)\n",
    "df1.head()"
   ]
  },
  {
   "cell_type": "code",
   "execution_count": null,
   "metadata": {},
   "outputs": [],
   "source": [
    "df3 = df2['Purchases'].apply(lambda x: pd.Series(str(x).split(\",\")))"
   ]
  },
  {
   "cell_type": "code",
   "execution_count": null,
   "metadata": {},
   "outputs": [],
   "source": [
    "df4 = df3.unstack()"
   ]
  },
  {
   "cell_type": "code",
   "execution_count": null,
   "metadata": {},
   "outputs": [],
   "source": [
    "df4.head()"
   ]
  },
  {
   "cell_type": "code",
   "execution_count": null,
   "metadata": {},
   "outputs": [],
   "source": []
  }
 ],
 "metadata": {
  "kernelspec": {
   "display_name": "Python 3",
   "language": "python",
   "name": "python3"
  },
  "language_info": {
   "codemirror_mode": {
    "name": "ipython",
    "version": 3
   },
   "file_extension": ".py",
   "mimetype": "text/x-python",
   "name": "python",
   "nbconvert_exporter": "python",
   "pygments_lexer": "ipython3",
   "version": "3.8.3"
  }
 },
 "nbformat": 4,
 "nbformat_minor": 2
}
